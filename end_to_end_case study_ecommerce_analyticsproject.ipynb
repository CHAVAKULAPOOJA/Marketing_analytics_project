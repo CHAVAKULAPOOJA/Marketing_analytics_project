{
 "cells": [
  {
   "cell_type": "code",
   "execution_count": 2,
   "id": "d9e036c4",
   "metadata": {},
   "outputs": [],
   "source": [
    "# Import the necceasary packages\n",
    "\n",
    "# Numerical Operations\n",
    "import pandas as pd\n",
    "import numpy as np\n",
    "\n",
    "#Plotting\n",
    "import matplotlib.pyplot as plt\n",
    "import seaborn as sns\n",
    "\n",
    "#Remove warnings\n",
    "import warnings\n",
    "warnings.filterwarnings('ignore')\n",
    "\n",
    "#Date\n",
    "import datetime as dt\n",
    "\n",
    "# set the graphs to show in the jupyter notebook\n",
    "%matplotlib inline\n",
    "\n",
    "# set seabor graphs to a better style\n",
    "sns.set(style=\"ticks\")\n",
    "\n",
    "# for better visualization\n",
    "plt.style.use('ggplot')"
   ]
  },
  {
   "cell_type": "code",
   "execution_count": 3,
   "id": "8a3c2eac",
   "metadata": {},
   "outputs": [],
   "source": [
    "## import the data set"
   ]
  },
  {
   "cell_type": "code",
   "execution_count": 4,
   "id": "3ff1603d",
   "metadata": {},
   "outputs": [],
   "source": [
    "customers=pd.read_csv(\"F:\\PYTHON DATASCIENCE\\python end to end case study\\CUSTOMERS.csv\")"
   ]
  },
  {
   "cell_type": "code",
   "execution_count": 5,
   "id": "e45a6331",
   "metadata": {},
   "outputs": [],
   "source": [
    "sellers=pd.read_csv(\"F:\\PYTHON DATASCIENCE\\python end to end case study\\SELLERS.csv\")"
   ]
  },
  {
   "cell_type": "code",
   "execution_count": 6,
   "id": "13272ae5",
   "metadata": {},
   "outputs": [],
   "source": [
    "products=pd.read_csv(\"F:\\PYTHON DATASCIENCE\\python end to end case study\\PRODUCTS.csv\")"
   ]
  },
  {
   "cell_type": "code",
   "execution_count": 7,
   "id": "4887b48c",
   "metadata": {},
   "outputs": [],
   "source": [
    "orders=pd.read_csv(\"F:\\PYTHON DATASCIENCE\\python end to end case study\\ORDERS.csv\")"
   ]
  },
  {
   "cell_type": "code",
   "execution_count": 8,
   "id": "560761c2",
   "metadata": {},
   "outputs": [],
   "source": [
    "order_items=pd.read_csv(\"F:\\PYTHON DATASCIENCE\\python end to end case study\\ORDER_ITEMS.csv\")"
   ]
  },
  {
   "cell_type": "code",
   "execution_count": 9,
   "id": "f214ec10",
   "metadata": {},
   "outputs": [],
   "source": [
    "order_payments=pd.read_csv(\"F:\\PYTHON DATASCIENCE\\python end to end case study\\ORDER_PAYMENTS.csv\")"
   ]
  },
  {
   "cell_type": "code",
   "execution_count": 10,
   "id": "2da923c6",
   "metadata": {},
   "outputs": [],
   "source": [
    "order_review_ratings=pd.read_csv(\"F:\\PYTHON DATASCIENCE\\python end to end case study\\ORDER_REVIEW_RATINGS.csv\")"
   ]
  },
  {
   "cell_type": "code",
   "execution_count": 11,
   "id": "94572516",
   "metadata": {},
   "outputs": [],
   "source": [
    "geo_location=pd.read_csv(\"F:\\PYTHON DATASCIENCE\\python end to end case study\\GEO_LOCATION.csv\")"
   ]
  },
  {
   "cell_type": "markdown",
   "id": "3f9619fc",
   "metadata": {},
   "source": [
    "## Data preparation"
   ]
  },
  {
   "cell_type": "markdown",
   "id": "1b52d178",
   "metadata": {},
   "source": [
    "### customers"
   ]
  },
  {
   "cell_type": "code",
   "execution_count": 12,
   "id": "a63d1a26",
   "metadata": {},
   "outputs": [
    {
     "name": "stdout",
     "output_type": "stream",
     "text": [
      "<class 'pandas.core.frame.DataFrame'>\n",
      "RangeIndex: 99441 entries, 0 to 99440\n",
      "Data columns (total 5 columns):\n",
      " #   Column                    Non-Null Count  Dtype \n",
      "---  ------                    --------------  ----- \n",
      " 0   customer_id               99441 non-null  object\n",
      " 1   customer_unique_id        99441 non-null  object\n",
      " 2   customer_zip_code_prefix  99441 non-null  int64 \n",
      " 3   customer_city             99441 non-null  object\n",
      " 4   customer_state            99441 non-null  object\n",
      "dtypes: int64(1), object(4)\n",
      "memory usage: 3.8+ MB\n"
     ]
    }
   ],
   "source": [
    "customers.info()"
   ]
  },
  {
   "cell_type": "code",
   "execution_count": 13,
   "id": "d9f9383a",
   "metadata": {},
   "outputs": [
    {
     "data": {
      "text/plain": [
       "customer_id                 0\n",
       "customer_unique_id          0\n",
       "customer_zip_code_prefix    0\n",
       "customer_city               0\n",
       "customer_state              0\n",
       "dtype: int64"
      ]
     },
     "execution_count": 13,
     "metadata": {},
     "output_type": "execute_result"
    }
   ],
   "source": [
    "customers.isna().sum()"
   ]
  },
  {
   "cell_type": "markdown",
   "id": "f6898a34",
   "metadata": {},
   "source": [
    "### sellers"
   ]
  },
  {
   "cell_type": "code",
   "execution_count": 14,
   "id": "f9fa4f5c",
   "metadata": {},
   "outputs": [
    {
     "name": "stdout",
     "output_type": "stream",
     "text": [
      "<class 'pandas.core.frame.DataFrame'>\n",
      "RangeIndex: 3095 entries, 0 to 3094\n",
      "Data columns (total 4 columns):\n",
      " #   Column                  Non-Null Count  Dtype \n",
      "---  ------                  --------------  ----- \n",
      " 0   seller_id               3095 non-null   object\n",
      " 1   seller_zip_code_prefix  3095 non-null   int64 \n",
      " 2   seller_city             3038 non-null   object\n",
      " 3   seller_state            3038 non-null   object\n",
      "dtypes: int64(1), object(3)\n",
      "memory usage: 96.8+ KB\n"
     ]
    }
   ],
   "source": [
    "sellers.info()"
   ]
  },
  {
   "cell_type": "code",
   "execution_count": 15,
   "id": "59530d05",
   "metadata": {},
   "outputs": [
    {
     "data": {
      "text/plain": [
       "seller_id                  0\n",
       "seller_zip_code_prefix     0\n",
       "seller_city               57\n",
       "seller_state              57\n",
       "dtype: int64"
      ]
     },
     "execution_count": 15,
     "metadata": {},
     "output_type": "execute_result"
    }
   ],
   "source": [
    "sellers.isna().sum()"
   ]
  },
  {
   "cell_type": "markdown",
   "id": "adcf64b9",
   "metadata": {},
   "source": [
    "### products\n"
   ]
  },
  {
   "cell_type": "code",
   "execution_count": 16,
   "id": "96f702eb",
   "metadata": {},
   "outputs": [
    {
     "name": "stdout",
     "output_type": "stream",
     "text": [
      "<class 'pandas.core.frame.DataFrame'>\n",
      "RangeIndex: 32951 entries, 0 to 32950\n",
      "Data columns (total 9 columns):\n",
      " #   Column                      Non-Null Count  Dtype  \n",
      "---  ------                      --------------  -----  \n",
      " 0   product_id                  32951 non-null  object \n",
      " 1   product_category_name       32328 non-null  object \n",
      " 2   product_name_lenght         32341 non-null  float64\n",
      " 3   product_description_lenght  32341 non-null  float64\n",
      " 4   product_photos_qty          32341 non-null  float64\n",
      " 5   product_weight_g            32949 non-null  float64\n",
      " 6   product_length_cm           32949 non-null  float64\n",
      " 7   product_height_cm           32949 non-null  float64\n",
      " 8   product_width_cm            32949 non-null  float64\n",
      "dtypes: float64(7), object(2)\n",
      "memory usage: 2.3+ MB\n"
     ]
    }
   ],
   "source": [
    "products.info()"
   ]
  },
  {
   "cell_type": "code",
   "execution_count": 17,
   "id": "c1e3f346",
   "metadata": {},
   "outputs": [
    {
     "data": {
      "text/plain": [
       "product_id                      0\n",
       "product_category_name         623\n",
       "product_name_lenght           610\n",
       "product_description_lenght    610\n",
       "product_photos_qty            610\n",
       "product_weight_g                2\n",
       "product_length_cm               2\n",
       "product_height_cm               2\n",
       "product_width_cm                2\n",
       "dtype: int64"
      ]
     },
     "execution_count": 17,
     "metadata": {},
     "output_type": "execute_result"
    }
   ],
   "source": [
    "products.isna().sum()"
   ]
  },
  {
   "cell_type": "markdown",
   "id": "9cea9a2d",
   "metadata": {},
   "source": [
    "### order_items"
   ]
  },
  {
   "cell_type": "code",
   "execution_count": 18,
   "id": "9043c222",
   "metadata": {},
   "outputs": [
    {
     "name": "stdout",
     "output_type": "stream",
     "text": [
      "<class 'pandas.core.frame.DataFrame'>\n",
      "RangeIndex: 112650 entries, 0 to 112649\n",
      "Data columns (total 7 columns):\n",
      " #   Column               Non-Null Count   Dtype  \n",
      "---  ------               --------------   -----  \n",
      " 0   order_id             112650 non-null  object \n",
      " 1   order_item_id        112650 non-null  int64  \n",
      " 2   product_id           112650 non-null  object \n",
      " 3   seller_id            112650 non-null  object \n",
      " 4   shipping_limit_date  112650 non-null  object \n",
      " 5   price                112650 non-null  float64\n",
      " 6   freight_value        112650 non-null  float64\n",
      "dtypes: float64(2), int64(1), object(4)\n",
      "memory usage: 6.0+ MB\n"
     ]
    }
   ],
   "source": [
    "order_items.info()"
   ]
  },
  {
   "cell_type": "code",
   "execution_count": 19,
   "id": "4eac7eac",
   "metadata": {},
   "outputs": [
    {
     "data": {
      "text/plain": [
       "order_id               0\n",
       "order_item_id          0\n",
       "product_id             0\n",
       "seller_id              0\n",
       "shipping_limit_date    0\n",
       "price                  0\n",
       "freight_value          0\n",
       "dtype: int64"
      ]
     },
     "execution_count": 19,
     "metadata": {},
     "output_type": "execute_result"
    }
   ],
   "source": [
    "order_items.isna().sum()"
   ]
  },
  {
   "cell_type": "markdown",
   "id": "6a6f76c2",
   "metadata": {},
   "source": [
    "### order_payments"
   ]
  },
  {
   "cell_type": "code",
   "execution_count": 20,
   "id": "4ba934b9",
   "metadata": {},
   "outputs": [
    {
     "name": "stdout",
     "output_type": "stream",
     "text": [
      "<class 'pandas.core.frame.DataFrame'>\n",
      "RangeIndex: 103886 entries, 0 to 103885\n",
      "Data columns (total 5 columns):\n",
      " #   Column                Non-Null Count   Dtype  \n",
      "---  ------                --------------   -----  \n",
      " 0   order_id              103886 non-null  object \n",
      " 1   payment_sequential    103886 non-null  int64  \n",
      " 2   payment_type          103886 non-null  object \n",
      " 3   payment_installments  103886 non-null  int64  \n",
      " 4   payment_value         103886 non-null  float64\n",
      "dtypes: float64(1), int64(2), object(2)\n",
      "memory usage: 4.0+ MB\n"
     ]
    }
   ],
   "source": [
    "order_payments.info()"
   ]
  },
  {
   "cell_type": "markdown",
   "id": "4dbd130e",
   "metadata": {},
   "source": [
    "### orders"
   ]
  },
  {
   "cell_type": "code",
   "execution_count": 21,
   "id": "effe7ca1",
   "metadata": {},
   "outputs": [
    {
     "name": "stdout",
     "output_type": "stream",
     "text": [
      "<class 'pandas.core.frame.DataFrame'>\n",
      "RangeIndex: 99441 entries, 0 to 99440\n",
      "Data columns (total 8 columns):\n",
      " #   Column                         Non-Null Count  Dtype \n",
      "---  ------                         --------------  ----- \n",
      " 0   order_id                       99441 non-null  object\n",
      " 1   customer_id                    99441 non-null  object\n",
      " 2   order_status                   99441 non-null  object\n",
      " 3   order_purchase_timestamp       99441 non-null  object\n",
      " 4   order_approved_at              99281 non-null  object\n",
      " 5   order_delivered_carrier_date   97658 non-null  object\n",
      " 6   order_delivered_customer_date  96476 non-null  object\n",
      " 7   order_estimated_delivery_date  99441 non-null  object\n",
      "dtypes: object(8)\n",
      "memory usage: 6.1+ MB\n"
     ]
    }
   ],
   "source": [
    "orders.info()"
   ]
  },
  {
   "cell_type": "markdown",
   "id": "ea299fe9",
   "metadata": {},
   "source": [
    "### order_review_ratings"
   ]
  },
  {
   "cell_type": "code",
   "execution_count": 22,
   "id": "09b2d905",
   "metadata": {},
   "outputs": [
    {
     "name": "stdout",
     "output_type": "stream",
     "text": [
      "<class 'pandas.core.frame.DataFrame'>\n",
      "RangeIndex: 100000 entries, 0 to 99999\n",
      "Data columns (total 5 columns):\n",
      " #   Column                   Non-Null Count   Dtype \n",
      "---  ------                   --------------   ----- \n",
      " 0   review_id                100000 non-null  object\n",
      " 1   order_id                 100000 non-null  object\n",
      " 2   review_score             100000 non-null  int64 \n",
      " 3   review_creation_date     100000 non-null  object\n",
      " 4   review_answer_timestamp  100000 non-null  object\n",
      "dtypes: int64(1), object(4)\n",
      "memory usage: 3.8+ MB\n"
     ]
    }
   ],
   "source": [
    "order_review_ratings.info()"
   ]
  },
  {
   "cell_type": "markdown",
   "id": "33ce16b7",
   "metadata": {},
   "source": [
    "### geo_location"
   ]
  },
  {
   "cell_type": "code",
   "execution_count": 23,
   "id": "138659a7",
   "metadata": {},
   "outputs": [
    {
     "name": "stdout",
     "output_type": "stream",
     "text": [
      "<class 'pandas.core.frame.DataFrame'>\n",
      "RangeIndex: 19015 entries, 0 to 19014\n",
      "Data columns (total 5 columns):\n",
      " #   Column                       Non-Null Count  Dtype  \n",
      "---  ------                       --------------  -----  \n",
      " 0   geolocation_zip_code_prefix  19015 non-null  int64  \n",
      " 1   geolocation_lat              19015 non-null  float64\n",
      " 2   geolocation_lng              19015 non-null  float64\n",
      " 3   geolocation_city             19015 non-null  object \n",
      " 4   geolocation_state            19015 non-null  object \n",
      "dtypes: float64(2), int64(1), object(2)\n",
      "memory usage: 742.9+ KB\n"
     ]
    }
   ],
   "source": [
    "geo_location.info()"
   ]
  },
  {
   "cell_type": "code",
   "execution_count": 24,
   "id": "1a33817c",
   "metadata": {},
   "outputs": [
    {
     "data": {
      "text/plain": [
       "geolocation_zip_code_prefix    0\n",
       "geolocation_lat                0\n",
       "geolocation_lng                0\n",
       "geolocation_city               0\n",
       "geolocation_state              0\n",
       "dtype: int64"
      ]
     },
     "execution_count": 24,
     "metadata": {},
     "output_type": "execute_result"
    }
   ],
   "source": [
    "geo_location.isna().sum()"
   ]
  },
  {
   "cell_type": "code",
   "execution_count": 25,
   "id": "0960bf48",
   "metadata": {},
   "outputs": [],
   "source": [
    "# merging data sets"
   ]
  },
  {
   "cell_type": "code",
   "execution_count": 26,
   "id": "1a5cece4",
   "metadata": {},
   "outputs": [],
   "source": [
    "orderpayments_value=order_payments.groupby('order_id').payment_value.sum().reset_index()"
   ]
  },
  {
   "cell_type": "code",
   "execution_count": 27,
   "id": "18569abb",
   "metadata": {},
   "outputs": [],
   "source": [
    "order_review_rate_avg=order_review_ratings.groupby('order_id').review_score.mean().reset_index()"
   ]
  },
  {
   "cell_type": "code",
   "execution_count": 28,
   "id": "019bf644",
   "metadata": {},
   "outputs": [],
   "source": [
    "data=orders.merge(orderpayments_value,on='order_id')"
   ]
  },
  {
   "cell_type": "code",
   "execution_count": 29,
   "id": "22ae0dcb",
   "metadata": {},
   "outputs": [],
   "source": [
    "data=data.merge(customers,on='customer_id')"
   ]
  },
  {
   "cell_type": "code",
   "execution_count": 30,
   "id": "53a5558d",
   "metadata": {},
   "outputs": [],
   "source": [
    "data=data.merge(order_items,how='left',on='order_id')"
   ]
  },
  {
   "cell_type": "code",
   "execution_count": 31,
   "id": "d5b5cfdc",
   "metadata": {},
   "outputs": [],
   "source": [
    "data=data.merge(products,how='left',on='product_id')"
   ]
  },
  {
   "cell_type": "code",
   "execution_count": 32,
   "id": "4f3456a1",
   "metadata": {},
   "outputs": [],
   "source": [
    "data=data.merge(sellers,how='left',on='seller_id')"
   ]
  },
  {
   "cell_type": "code",
   "execution_count": 33,
   "id": "420835be",
   "metadata": {},
   "outputs": [],
   "source": [
    "data=data.merge(order_review_rate_avg,how='left',on='order_id')"
   ]
  },
  {
   "cell_type": "code",
   "execution_count": 34,
   "id": "47c79212",
   "metadata": {},
   "outputs": [
    {
     "data": {
      "text/plain": [
       "(113422, 31)"
      ]
     },
     "execution_count": 34,
     "metadata": {},
     "output_type": "execute_result"
    }
   ],
   "source": [
    "data.shape"
   ]
  },
  {
   "cell_type": "code",
   "execution_count": 35,
   "id": "4a7d9605",
   "metadata": {},
   "outputs": [
    {
     "data": {
      "text/plain": [
       "order_id                            0\n",
       "customer_id                         0\n",
       "order_status                        0\n",
       "order_purchase_timestamp            0\n",
       "order_approved_at                 161\n",
       "order_delivered_carrier_date     1968\n",
       "order_delivered_customer_date    3229\n",
       "order_estimated_delivery_date       0\n",
       "payment_value                       0\n",
       "customer_unique_id                  0\n",
       "customer_zip_code_prefix            0\n",
       "customer_city                       0\n",
       "customer_state                      0\n",
       "order_item_id                     775\n",
       "product_id                        775\n",
       "seller_id                         775\n",
       "shipping_limit_date               775\n",
       "price                             775\n",
       "freight_value                     775\n",
       "product_category_name            2402\n",
       "product_name_lenght              2378\n",
       "product_description_lenght       2378\n",
       "product_photos_qty               2378\n",
       "product_weight_g                  793\n",
       "product_length_cm                 793\n",
       "product_height_cm                 793\n",
       "product_width_cm                  793\n",
       "seller_zip_code_prefix            775\n",
       "seller_city                      2342\n",
       "seller_state                     2342\n",
       "review_score                        0\n",
       "dtype: int64"
      ]
     },
     "execution_count": 35,
     "metadata": {},
     "output_type": "execute_result"
    }
   ],
   "source": [
    "data.isna().sum()"
   ]
  },
  {
   "cell_type": "code",
   "execution_count": 36,
   "id": "f8f40064",
   "metadata": {},
   "outputs": [],
   "source": [
    "data=data.drop(columns=['order_approved_at','order_delivered_carrier_date','order_estimated_delivery_date','order_delivered_customer_date','shipping_limit_date','product_name_lenght','product_description_lenght','product_photos_qty','product_weight_g','product_length_cm','product_height_cm','product_height_cm','product_width_cm','seller_city','seller_state','seller_zip_code_prefix'])"
   ]
  },
  {
   "cell_type": "code",
   "execution_count": 37,
   "id": "4fbb3377",
   "metadata": {},
   "outputs": [
    {
     "data": {
      "text/plain": [
       "order_id                       0\n",
       "customer_id                    0\n",
       "order_status                   0\n",
       "order_purchase_timestamp       0\n",
       "payment_value                  0\n",
       "customer_unique_id             0\n",
       "customer_zip_code_prefix       0\n",
       "customer_city                  0\n",
       "customer_state                 0\n",
       "order_item_id                775\n",
       "product_id                   775\n",
       "seller_id                    775\n",
       "price                        775\n",
       "freight_value                775\n",
       "product_category_name       2402\n",
       "review_score                   0\n",
       "dtype: int64"
      ]
     },
     "execution_count": 37,
     "metadata": {},
     "output_type": "execute_result"
    }
   ],
   "source": [
    "data.isna().sum()"
   ]
  },
  {
   "cell_type": "code",
   "execution_count": 38,
   "id": "708eb2d1",
   "metadata": {},
   "outputs": [],
   "source": [
    "data['order_item_id']=data['order_item_id'].fillna(data['order_item_id'].median())"
   ]
  },
  {
   "cell_type": "code",
   "execution_count": 39,
   "id": "5a831a55",
   "metadata": {},
   "outputs": [],
   "source": [
    "col=['product_id','seller_id','product_category_name']\n",
    "for i in col:\n",
    "    data[i]=data[i].fillna('unknown')"
   ]
  },
  {
   "cell_type": "code",
   "execution_count": 40,
   "id": "5d4f3cdb",
   "metadata": {},
   "outputs": [],
   "source": [
    "# considering 90 percent of  payment value as price and 10 percent as freight_value\n",
    "data['price']=data['price'].fillna(0.90*(data.payment_value))"
   ]
  },
  {
   "cell_type": "code",
   "execution_count": 41,
   "id": "bb23ae31",
   "metadata": {},
   "outputs": [],
   "source": [
    "data['freight_value']=data['freight_value'].fillna(0.1*(data.payment_value))"
   ]
  },
  {
   "cell_type": "code",
   "execution_count": 42,
   "id": "c50c054b",
   "metadata": {},
   "outputs": [
    {
     "data": {
      "text/plain": [
       "order_id                    0\n",
       "customer_id                 0\n",
       "order_status                0\n",
       "order_purchase_timestamp    0\n",
       "payment_value               0\n",
       "customer_unique_id          0\n",
       "customer_zip_code_prefix    0\n",
       "customer_city               0\n",
       "customer_state              0\n",
       "order_item_id               0\n",
       "product_id                  0\n",
       "seller_id                   0\n",
       "price                       0\n",
       "freight_value               0\n",
       "product_category_name       0\n",
       "review_score                0\n",
       "dtype: int64"
      ]
     },
     "execution_count": 42,
     "metadata": {},
     "output_type": "execute_result"
    }
   ],
   "source": [
    "data.isna().sum()"
   ]
  },
  {
   "cell_type": "code",
   "execution_count": 43,
   "id": "afba6ab4",
   "metadata": {},
   "outputs": [
    {
     "name": "stdout",
     "output_type": "stream",
     "text": [
      "<class 'pandas.core.frame.DataFrame'>\n",
      "Int64Index: 113422 entries, 0 to 113421\n",
      "Data columns (total 16 columns):\n",
      " #   Column                    Non-Null Count   Dtype  \n",
      "---  ------                    --------------   -----  \n",
      " 0   order_id                  113422 non-null  object \n",
      " 1   customer_id               113422 non-null  object \n",
      " 2   order_status              113422 non-null  object \n",
      " 3   order_purchase_timestamp  113422 non-null  object \n",
      " 4   payment_value             113422 non-null  float64\n",
      " 5   customer_unique_id        113422 non-null  object \n",
      " 6   customer_zip_code_prefix  113422 non-null  int64  \n",
      " 7   customer_city             113422 non-null  object \n",
      " 8   customer_state            113422 non-null  object \n",
      " 9   order_item_id             113422 non-null  float64\n",
      " 10  product_id                113422 non-null  object \n",
      " 11  seller_id                 113422 non-null  object \n",
      " 12  price                     113422 non-null  float64\n",
      " 13  freight_value             113422 non-null  float64\n",
      " 14  product_category_name     113422 non-null  object \n",
      " 15  review_score              113422 non-null  float64\n",
      "dtypes: float64(5), int64(1), object(10)\n",
      "memory usage: 14.7+ MB\n"
     ]
    }
   ],
   "source": [
    "data.info()"
   ]
  },
  {
   "cell_type": "code",
   "execution_count": 44,
   "id": "6f70c456",
   "metadata": {},
   "outputs": [],
   "source": [
    "data.order_purchase_timestamp=pd.to_datetime(data.order_purchase_timestamp)"
   ]
  },
  {
   "cell_type": "code",
   "execution_count": 45,
   "id": "46524fa7",
   "metadata": {},
   "outputs": [],
   "source": [
    "data['year']=data.order_purchase_timestamp.dt.year"
   ]
  },
  {
   "cell_type": "code",
   "execution_count": 46,
   "id": "3c6f8192",
   "metadata": {},
   "outputs": [],
   "source": [
    "data['month']=data.order_purchase_timestamp.dt.month_name()"
   ]
  },
  {
   "cell_type": "code",
   "execution_count": 47,
   "id": "94c2aa3b",
   "metadata": {},
   "outputs": [],
   "source": [
    "data['week']=data.order_purchase_timestamp.dt.weekofyear"
   ]
  },
  {
   "cell_type": "code",
   "execution_count": 48,
   "id": "ebc84bba",
   "metadata": {},
   "outputs": [],
   "source": [
    "data['time']=data.order_purchase_timestamp.dt.time"
   ]
  },
  {
   "cell_type": "code",
   "execution_count": 49,
   "id": "b7945b14",
   "metadata": {},
   "outputs": [],
   "source": [
    "data['day']=data.order_purchase_timestamp.dt.date"
   ]
  },
  {
   "cell_type": "code",
   "execution_count": 50,
   "id": "f9398216",
   "metadata": {},
   "outputs": [],
   "source": [
    "data['month_year']=data.order_purchase_timestamp.dt.date.astype(str).str[0:7]"
   ]
  },
  {
   "cell_type": "code",
   "execution_count": 51,
   "id": "6a19ed0f",
   "metadata": {},
   "outputs": [],
   "source": [
    "data['price_to_pay']=data['price']+data['freight_value']"
   ]
  },
  {
   "cell_type": "code",
   "execution_count": 52,
   "id": "a87262ed",
   "metadata": {},
   "outputs": [
    {
     "name": "stdout",
     "output_type": "stream",
     "text": [
      "<class 'pandas.core.frame.DataFrame'>\n",
      "Int64Index: 113422 entries, 0 to 113421\n",
      "Data columns (total 23 columns):\n",
      " #   Column                    Non-Null Count   Dtype         \n",
      "---  ------                    --------------   -----         \n",
      " 0   order_id                  113422 non-null  object        \n",
      " 1   customer_id               113422 non-null  object        \n",
      " 2   order_status              113422 non-null  object        \n",
      " 3   order_purchase_timestamp  113422 non-null  datetime64[ns]\n",
      " 4   payment_value             113422 non-null  float64       \n",
      " 5   customer_unique_id        113422 non-null  object        \n",
      " 6   customer_zip_code_prefix  113422 non-null  int64         \n",
      " 7   customer_city             113422 non-null  object        \n",
      " 8   customer_state            113422 non-null  object        \n",
      " 9   order_item_id             113422 non-null  float64       \n",
      " 10  product_id                113422 non-null  object        \n",
      " 11  seller_id                 113422 non-null  object        \n",
      " 12  price                     113422 non-null  float64       \n",
      " 13  freight_value             113422 non-null  float64       \n",
      " 14  product_category_name     113422 non-null  object        \n",
      " 15  review_score              113422 non-null  float64       \n",
      " 16  year                      113422 non-null  int64         \n",
      " 17  month                     113422 non-null  object        \n",
      " 18  week                      113422 non-null  int64         \n",
      " 19  time                      113422 non-null  object        \n",
      " 20  day                       113422 non-null  object        \n",
      " 21  month_year                113422 non-null  object        \n",
      " 22  price_to_pay              113422 non-null  float64       \n",
      "dtypes: datetime64[ns](1), float64(6), int64(3), object(13)\n",
      "memory usage: 20.8+ MB\n"
     ]
    }
   ],
   "source": [
    "data.info()"
   ]
  },
  {
   "cell_type": "code",
   "execution_count": 53,
   "id": "73286b94",
   "metadata": {},
   "outputs": [
    {
     "data": {
      "text/plain": [
       "0"
      ]
     },
     "execution_count": 53,
     "metadata": {},
     "output_type": "execute_result"
    }
   ],
   "source": [
    "data.duplicated(['order_id','product_id','order_item_id']).sum()"
   ]
  },
  {
   "cell_type": "markdown",
   "id": "7c8836ee",
   "metadata": {},
   "source": [
    "## a. Define & calculate high level metrics like (Total Revenue, Total quantity, Total products, Total categories, Total sellers, Total locations, Total channels, Total payment methods etc…)"
   ]
  },
  {
   "cell_type": "markdown",
   "id": "062c381a",
   "metadata": {},
   "source": [
    "### Total Revenue"
   ]
  },
  {
   "cell_type": "code",
   "execution_count": 54,
   "id": "13d75828",
   "metadata": {},
   "outputs": [
    {
     "data": {
      "text/plain": [
       "16006001.729999999"
      ]
     },
     "execution_count": 54,
     "metadata": {},
     "output_type": "execute_result"
    }
   ],
   "source": [
    "data.price_to_pay.sum()"
   ]
  },
  {
   "cell_type": "markdown",
   "id": "f2d5b877",
   "metadata": {},
   "source": [
    "### Total quantity"
   ]
  },
  {
   "cell_type": "code",
   "execution_count": 55,
   "id": "7df5c9bd",
   "metadata": {},
   "outputs": [
    {
     "data": {
      "text/plain": [
       "113422"
      ]
     },
     "execution_count": 55,
     "metadata": {},
     "output_type": "execute_result"
    }
   ],
   "source": [
    "data.order_item_id.count()"
   ]
  },
  {
   "cell_type": "markdown",
   "id": "c914ddc7",
   "metadata": {},
   "source": [
    "### Total products"
   ]
  },
  {
   "cell_type": "code",
   "execution_count": 56,
   "id": "29e20cea",
   "metadata": {},
   "outputs": [
    {
     "data": {
      "text/plain": [
       "32952"
      ]
     },
     "execution_count": 56,
     "metadata": {},
     "output_type": "execute_result"
    }
   ],
   "source": [
    "data.product_id.nunique()"
   ]
  },
  {
   "cell_type": "markdown",
   "id": "6662acda",
   "metadata": {},
   "source": [
    "### Total categories"
   ]
  },
  {
   "cell_type": "code",
   "execution_count": 57,
   "id": "d6188410",
   "metadata": {},
   "outputs": [
    {
     "data": {
      "text/plain": [
       "72"
      ]
     },
     "execution_count": 57,
     "metadata": {},
     "output_type": "execute_result"
    }
   ],
   "source": [
    "data.product_category_name.nunique()"
   ]
  },
  {
   "cell_type": "markdown",
   "id": "1804faf1",
   "metadata": {},
   "source": [
    "### Total sellers"
   ]
  },
  {
   "cell_type": "code",
   "execution_count": 58,
   "id": "46eca9c1",
   "metadata": {},
   "outputs": [
    {
     "data": {
      "text/plain": [
       "3096"
      ]
     },
     "execution_count": 58,
     "metadata": {},
     "output_type": "execute_result"
    }
   ],
   "source": [
    "data.seller_id.nunique()"
   ]
  },
  {
   "cell_type": "markdown",
   "id": "6b0f7808",
   "metadata": {},
   "source": [
    "### Total locations"
   ]
  },
  {
   "cell_type": "code",
   "execution_count": 59,
   "id": "a606dc15",
   "metadata": {},
   "outputs": [],
   "source": [
    "# customer locations"
   ]
  },
  {
   "cell_type": "code",
   "execution_count": 60,
   "id": "3e91dd64",
   "metadata": {},
   "outputs": [
    {
     "data": {
      "text/plain": [
       "14994"
      ]
     },
     "execution_count": 60,
     "metadata": {},
     "output_type": "execute_result"
    }
   ],
   "source": [
    "data.customer_zip_code_prefix.nunique()"
   ]
  },
  {
   "cell_type": "markdown",
   "id": "35a739f1",
   "metadata": {},
   "source": [
    "### Total Payment Methods"
   ]
  },
  {
   "cell_type": "code",
   "execution_count": 61,
   "id": "0454d24d",
   "metadata": {},
   "outputs": [
    {
     "data": {
      "text/plain": [
       "5"
      ]
     },
     "execution_count": 61,
     "metadata": {},
     "output_type": "execute_result"
    }
   ],
   "source": [
    "order_payments.payment_type.nunique()"
   ]
  },
  {
   "cell_type": "markdown",
   "id": "9d0ea820",
   "metadata": {},
   "source": [
    "## b. Understanding how many new customers acquired every month"
   ]
  },
  {
   "cell_type": "code",
   "execution_count": 62,
   "id": "b263906e",
   "metadata": {},
   "outputs": [],
   "source": [
    "# sort data by customer level\n",
    "b=data.groupby(['order_id','customer_id']).last().reset_index()"
   ]
  },
  {
   "cell_type": "code",
   "execution_count": 63,
   "id": "55557108",
   "metadata": {},
   "outputs": [],
   "source": [
    "customer_count_per_month=b.groupby(['month_year',b.customer_id.rename('customer')]).customer_id.count().reset_index()"
   ]
  },
  {
   "cell_type": "code",
   "execution_count": 64,
   "id": "af762b1d",
   "metadata": {},
   "outputs": [],
   "source": [
    "customer_firstpurchase=b.groupby('customer_id').month_year.min().reset_index().rename(columns={'customer_id':'customer','month_year':'first_purchase_month'})"
   ]
  },
  {
   "cell_type": "code",
   "execution_count": 65,
   "id": "139d91f9",
   "metadata": {},
   "outputs": [],
   "source": [
    "bfinal=customer_count_per_month.merge(customer_firstpurchase,on='customer')"
   ]
  },
  {
   "cell_type": "code",
   "execution_count": 66,
   "id": "afde16ed",
   "metadata": {},
   "outputs": [],
   "source": [
    "bfinal.customer_id=np.where(bfinal.month_year==bfinal.first_purchase_month,'New','Old')"
   ]
  },
  {
   "cell_type": "code",
   "execution_count": 67,
   "id": "d679fdb9",
   "metadata": {},
   "outputs": [
    {
     "data": {
      "text/html": [
       "<div>\n",
       "<style scoped>\n",
       "    .dataframe tbody tr th:only-of-type {\n",
       "        vertical-align: middle;\n",
       "    }\n",
       "\n",
       "    .dataframe tbody tr th {\n",
       "        vertical-align: top;\n",
       "    }\n",
       "\n",
       "    .dataframe thead th {\n",
       "        text-align: right;\n",
       "    }\n",
       "</style>\n",
       "<table border=\"1\" class=\"dataframe\">\n",
       "  <thead>\n",
       "    <tr style=\"text-align: right;\">\n",
       "      <th></th>\n",
       "      <th>month_year</th>\n",
       "      <th>customer</th>\n",
       "      <th>customer_id</th>\n",
       "      <th>first_purchase_month</th>\n",
       "    </tr>\n",
       "  </thead>\n",
       "  <tbody>\n",
       "    <tr>\n",
       "      <th>0</th>\n",
       "      <td>2016-09</td>\n",
       "      <td>08c5351a6aca1c1589a38f244edeee9d</td>\n",
       "      <td>New</td>\n",
       "      <td>2016-09</td>\n",
       "    </tr>\n",
       "    <tr>\n",
       "      <th>1</th>\n",
       "      <td>2016-09</td>\n",
       "      <td>622e13439d6b5a0b486c435618b2679e</td>\n",
       "      <td>New</td>\n",
       "      <td>2016-09</td>\n",
       "    </tr>\n",
       "    <tr>\n",
       "      <th>2</th>\n",
       "      <td>2016-09</td>\n",
       "      <td>683c54fc24d40ee9f8a6fc179fd9856c</td>\n",
       "      <td>New</td>\n",
       "      <td>2016-09</td>\n",
       "    </tr>\n",
       "    <tr>\n",
       "      <th>3</th>\n",
       "      <td>2016-10</td>\n",
       "      <td>00474d2582fd72663036795b7ab8cfc1</td>\n",
       "      <td>New</td>\n",
       "      <td>2016-10</td>\n",
       "    </tr>\n",
       "    <tr>\n",
       "      <th>4</th>\n",
       "      <td>2016-10</td>\n",
       "      <td>01415cfeb907d8ce0e17075b4c097fe9</td>\n",
       "      <td>New</td>\n",
       "      <td>2016-10</td>\n",
       "    </tr>\n",
       "    <tr>\n",
       "      <th>...</th>\n",
       "      <td>...</td>\n",
       "      <td>...</td>\n",
       "      <td>...</td>\n",
       "      <td>...</td>\n",
       "    </tr>\n",
       "    <tr>\n",
       "      <th>99435</th>\n",
       "      <td>2018-09</td>\n",
       "      <td>fea4d57ed3a45455f89c25ef3dae8ee8</td>\n",
       "      <td>New</td>\n",
       "      <td>2018-09</td>\n",
       "    </tr>\n",
       "    <tr>\n",
       "      <th>99436</th>\n",
       "      <td>2018-10</td>\n",
       "      <td>4c2ec60c29d10c34bd49cb88aa85cfc4</td>\n",
       "      <td>New</td>\n",
       "      <td>2018-10</td>\n",
       "    </tr>\n",
       "    <tr>\n",
       "      <th>99437</th>\n",
       "      <td>2018-10</td>\n",
       "      <td>856336203359aa6a61bf3826f7d84c49</td>\n",
       "      <td>New</td>\n",
       "      <td>2018-10</td>\n",
       "    </tr>\n",
       "    <tr>\n",
       "      <th>99438</th>\n",
       "      <td>2018-10</td>\n",
       "      <td>a4b417188addbc05b26b72d5e44837a1</td>\n",
       "      <td>New</td>\n",
       "      <td>2018-10</td>\n",
       "    </tr>\n",
       "    <tr>\n",
       "      <th>99439</th>\n",
       "      <td>2018-10</td>\n",
       "      <td>bf6181a85bbb4115736c0a8db1a53be3</td>\n",
       "      <td>New</td>\n",
       "      <td>2018-10</td>\n",
       "    </tr>\n",
       "  </tbody>\n",
       "</table>\n",
       "<p>99440 rows × 4 columns</p>\n",
       "</div>"
      ],
      "text/plain": [
       "      month_year                          customer customer_id  \\\n",
       "0        2016-09  08c5351a6aca1c1589a38f244edeee9d         New   \n",
       "1        2016-09  622e13439d6b5a0b486c435618b2679e         New   \n",
       "2        2016-09  683c54fc24d40ee9f8a6fc179fd9856c         New   \n",
       "3        2016-10  00474d2582fd72663036795b7ab8cfc1         New   \n",
       "4        2016-10  01415cfeb907d8ce0e17075b4c097fe9         New   \n",
       "...          ...                               ...         ...   \n",
       "99435    2018-09  fea4d57ed3a45455f89c25ef3dae8ee8         New   \n",
       "99436    2018-10  4c2ec60c29d10c34bd49cb88aa85cfc4         New   \n",
       "99437    2018-10  856336203359aa6a61bf3826f7d84c49         New   \n",
       "99438    2018-10  a4b417188addbc05b26b72d5e44837a1         New   \n",
       "99439    2018-10  bf6181a85bbb4115736c0a8db1a53be3         New   \n",
       "\n",
       "      first_purchase_month  \n",
       "0                  2016-09  \n",
       "1                  2016-09  \n",
       "2                  2016-09  \n",
       "3                  2016-10  \n",
       "4                  2016-10  \n",
       "...                    ...  \n",
       "99435              2018-09  \n",
       "99436              2018-10  \n",
       "99437              2018-10  \n",
       "99438              2018-10  \n",
       "99439              2018-10  \n",
       "\n",
       "[99440 rows x 4 columns]"
      ]
     },
     "execution_count": 67,
     "metadata": {},
     "output_type": "execute_result"
    }
   ],
   "source": [
    "bfinal"
   ]
  },
  {
   "cell_type": "markdown",
   "id": "995016d3",
   "metadata": {},
   "source": [
    "### new customers count per month"
   ]
  },
  {
   "cell_type": "code",
   "execution_count": 68,
   "id": "99bf0bd1",
   "metadata": {},
   "outputs": [
    {
     "data": {
      "text/plain": [
       "month_year\n",
       "2016-09       3\n",
       "2016-10     324\n",
       "2016-12       1\n",
       "2017-01     800\n",
       "2017-02    1780\n",
       "2017-03    2682\n",
       "2017-04    2404\n",
       "2017-05    3700\n",
       "2017-06    3245\n",
       "2017-07    4026\n",
       "2017-08    4331\n",
       "2017-09    4285\n",
       "2017-10    4631\n",
       "2017-11    7544\n",
       "2017-12    5673\n",
       "2018-01    7269\n",
       "2018-02    6728\n",
       "2018-03    7211\n",
       "2018-04    6939\n",
       "2018-05    6873\n",
       "2018-06    6167\n",
       "2018-07    6292\n",
       "2018-08    6512\n",
       "2018-09      16\n",
       "2018-10       4\n",
       "Name: customer_id, dtype: int64"
      ]
     },
     "execution_count": 68,
     "metadata": {},
     "output_type": "execute_result"
    }
   ],
   "source": [
    "bfinal.query('customer_id==\"New\"').groupby('month_year').customer_id.count()"
   ]
  },
  {
   "cell_type": "markdown",
   "id": "3bfc6c9c",
   "metadata": {},
   "source": [
    "## c. Understand the retention of customers on month on month basis"
   ]
  },
  {
   "cell_type": "code",
   "execution_count": 69,
   "id": "b437f872",
   "metadata": {},
   "outputs": [
    {
     "data": {
      "text/plain": [
       "New    99440\n",
       "Name: customer_id, dtype: int64"
      ]
     },
     "execution_count": 69,
     "metadata": {},
     "output_type": "execute_result"
    }
   ],
   "source": [
    "bfinal.customer_id.value_counts()"
   ]
  },
  {
   "cell_type": "code",
   "execution_count": 70,
   "id": "bea97102",
   "metadata": {},
   "outputs": [
    {
     "data": {
      "text/plain": [
       "99440"
      ]
     },
     "execution_count": 70,
     "metadata": {},
     "output_type": "execute_result"
    }
   ],
   "source": [
    "data.customer_id.nunique()"
   ]
  },
  {
   "cell_type": "code",
   "execution_count": 71,
   "id": "72f5288b",
   "metadata": {},
   "outputs": [
    {
     "data": {
      "text/plain": [
       "99440"
      ]
     },
     "execution_count": 71,
     "metadata": {},
     "output_type": "execute_result"
    }
   ],
   "source": [
    "data.order_id.nunique()"
   ]
  },
  {
   "cell_type": "raw",
   "id": "5404164d",
   "metadata": {},
   "source": [
    "From above , in bfinal(where we classified customer as new and old), there are only new customers in entire datset.\n",
    "we can understand that :\n",
    "Number of  unique customers is equal to 99440 .\n",
    "Number of unique order_ids is equal to 99440.\n",
    "From above , we can say that one customer has made only one order in this data.\n",
    "if the customer places more than one order, then only we can differentitate them as old customer or new customer for a particular month.\n",
    "since,there is only  one order for one customer .\n",
    "therefore, we can say that  retention rate of customers is zero percent in all months"
   ]
  },
  {
   "cell_type": "markdown",
   "id": "bfa6e76c",
   "metadata": {},
   "source": [
    "## d. How the revenues from existing/new customers on month on month basis"
   ]
  },
  {
   "cell_type": "code",
   "execution_count": 72,
   "id": "8389ab6e",
   "metadata": {},
   "outputs": [],
   "source": [
    "# sort data by customer level\n",
    "d=data.drop_duplicates('customer_id')"
   ]
  },
  {
   "cell_type": "code",
   "execution_count": 73,
   "id": "8a7f9730",
   "metadata": {},
   "outputs": [
    {
     "data": {
      "image/png": "[encoded data removed]",
      "text/plain": [
       "<Figure size 972x360 with 1 Axes>"
      ]
     },
     "metadata": {},
     "output_type": "display_data"
    }
   ],
   "source": [
    "D=d.groupby('month_year').payment_value.sum().reset_index()\n",
    "plt.figure(figsize=(13.5,5))\n",
    "sns.barplot(D.month_year,D.payment_value)\n",
    "plt.xticks(rotation=90)\n",
    "plt.ticklabel_format(style='plain',axis='y')\n",
    "plt.title('new customers revenue per month')\n",
    "plt.show()"
   ]
  },
  {
   "cell_type": "markdown",
   "id": "cabe2c4e",
   "metadata": {},
   "source": [
    "## e. Understand the trends/seasonality of sales, quantity by category, location, month, week, day, time, channel, payment method etc…"
   ]
  },
  {
   "cell_type": "code",
   "execution_count": 74,
   "id": "ed3a397a",
   "metadata": {},
   "outputs": [],
   "source": [
    "# sales by category"
   ]
  },
  {
   "cell_type": "code",
   "execution_count": 75,
   "id": "8e9489e0",
   "metadata": {},
   "outputs": [
    {
     "data": {
      "image/png": "[encoded data removed]",
      "text/plain": [
       "<Figure size 1152x432 with 1 Axes>"
      ]
     },
     "metadata": {},
     "output_type": "display_data"
    }
   ],
   "source": [
    "e1=data.groupby('product_category_name').price_to_pay.sum().reset_index()\n",
    "plt.figure(figsize=(16,6))\n",
    "sns.scatterplot(x='product_category_name',y='price_to_pay',data=e1)\n",
    "plt.ylabel('Sales')\n",
    "plt.ticklabel_format(style='plain',axis='y')\n",
    "plt.xticks(rotation=90)\n",
    "plt.show()"
   ]
  },
  {
   "cell_type": "code",
   "execution_count": 76,
   "id": "5b956bd0",
   "metadata": {},
   "outputs": [],
   "source": [
    "# quantity by category"
   ]
  },
  {
   "cell_type": "code",
   "execution_count": 77,
   "id": "e937a151",
   "metadata": {},
   "outputs": [
    {
     "data": {
      "image/png": "[encoded data removed]",
      "text/plain": [
       "<Figure size 1152x432 with 1 Axes>"
      ]
     },
     "metadata": {},
     "output_type": "display_data"
    }
   ],
   "source": [
    "e2=data.groupby('product_category_name').order_item_id.count().reset_index()\n",
    "plt.figure(figsize=(16,6))\n",
    "sns.scatterplot(x='product_category_name',y='order_item_id',data=e2)\n",
    "plt.ylabel('Quantity')\n",
    "plt.ticklabel_format(style='plain',axis='y')\n",
    "plt.xticks(rotation=90)\n",
    "plt.show()"
   ]
  },
  {
   "cell_type": "code",
   "execution_count": 78,
   "id": "8b5d50d4",
   "metadata": {},
   "outputs": [],
   "source": [
    "# sales by location "
   ]
  },
  {
   "cell_type": "code",
   "execution_count": 79,
   "id": "108cef87",
   "metadata": {},
   "outputs": [
    {
     "data": {
      "image/png": "[encoded data removed]",
      "text/plain": [
       "<Figure size 1152x432 with 1 Axes>"
      ]
     },
     "metadata": {},
     "output_type": "display_data"
    }
   ],
   "source": [
    "e3=data.groupby('customer_state').price_to_pay.sum().reset_index()\n",
    "plt.figure(figsize=(16,6))\n",
    "sns.barplot(e3.customer_state,e3.price_to_pay)\n",
    "plt.ticklabel_format(style='plain',axis='y')\n",
    "plt.ylabel('Sales')\n",
    "plt.xticks(rotation=90)\n",
    "plt.show()\n"
   ]
  },
  {
   "cell_type": "code",
   "execution_count": 80,
   "id": "967c441d",
   "metadata": {},
   "outputs": [],
   "source": [
    "# quantity by location"
   ]
  },
  {
   "cell_type": "code",
   "execution_count": 81,
   "id": "2f1fc7af",
   "metadata": {},
   "outputs": [
    {
     "data": {
      "image/png": "[encoded data removed]",
      "text/plain": [
       "<Figure size 1152x432 with 1 Axes>"
      ]
     },
     "metadata": {},
     "output_type": "display_data"
    }
   ],
   "source": [
    "e4=data.groupby('customer_state').order_item_id.count().reset_index()\n",
    "plt.figure(figsize=(16,6))\n",
    "sns.barplot(e4.customer_state,e4.order_item_id)\n",
    "plt.ticklabel_format(style='plain',axis='y')\n",
    "plt.xticks(rotation=90)\n",
    "plt.show()"
   ]
  },
  {
   "cell_type": "code",
   "execution_count": 82,
   "id": "c0dd45ba",
   "metadata": {},
   "outputs": [],
   "source": [
    "# sales by month"
   ]
  },
  {
   "cell_type": "code",
   "execution_count": 83,
   "id": "6b2d7c39",
   "metadata": {},
   "outputs": [
    {
     "data": {
      "image/png": "[encoded data removed]",
      "text/plain": [
       "<Figure size 1152x432 with 1 Axes>"
      ]
     },
     "metadata": {},
     "output_type": "display_data"
    }
   ],
   "source": [
    "e5=data.groupby('month_year').price_to_pay.sum().reset_index()\n",
    "plt.figure(figsize=(16,6))\n",
    "sns.barplot(e5.month_year,e5.price_to_pay)\n",
    "plt.ticklabel_format(style='plain',axis='y')\n",
    "plt.ylabel('Sales')\n",
    "plt.xticks(rotation=90)\n",
    "plt.show()"
   ]
  },
  {
   "cell_type": "code",
   "execution_count": 84,
   "id": "a1ee8788",
   "metadata": {},
   "outputs": [],
   "source": [
    "# quantity by month"
   ]
  },
  {
   "cell_type": "code",
   "execution_count": 85,
   "id": "4f53632b",
   "metadata": {},
   "outputs": [
    {
     "data": {
      "image/png": "[encoded data removed]",
      "text/plain": [
       "<Figure size 1152x432 with 1 Axes>"
      ]
     },
     "metadata": {},
     "output_type": "display_data"
    }
   ],
   "source": [
    "e6=data.groupby('month_year').order_item_id.count().reset_index()\n",
    "plt.figure(figsize=(16,6))\n",
    "sns.barplot(e6.month_year,e6.order_item_id)\n",
    "plt.ticklabel_format(style='plain',axis='y')\n",
    "plt.ylabel('quantity')\n",
    "plt.xticks(rotation=90)\n",
    "plt.show()"
   ]
  },
  {
   "cell_type": "code",
   "execution_count": 86,
   "id": "82cd3937",
   "metadata": {},
   "outputs": [],
   "source": [
    "# sales by week"
   ]
  },
  {
   "cell_type": "code",
   "execution_count": 87,
   "id": "a364a5fd",
   "metadata": {},
   "outputs": [
    {
     "data": {
      "image/png": "[encoded data removed]",
      "text/plain": [
       "<Figure size 1296x504 with 1 Axes>"
      ]
     },
     "metadata": {},
     "output_type": "display_data"
    }
   ],
   "source": [
    "e7=data.groupby(['year','week']).price_to_pay.sum().reset_index()\n",
    "e7['year_week']=e7.year.astype(str)+'-'+e7.week.astype(str)\n",
    "plt.figure(figsize=(18,7))\n",
    "plt.scatter(e7.year_week,e7.price_to_pay)\n",
    "plt.ticklabel_format(style='plain',axis='y')\n",
    "plt.xticks(rotation=90)\n",
    "plt.show()"
   ]
  },
  {
   "cell_type": "code",
   "execution_count": 88,
   "id": "d8b47a65",
   "metadata": {},
   "outputs": [],
   "source": [
    "# quantity by week"
   ]
  },
  {
   "cell_type": "code",
   "execution_count": 89,
   "id": "935eb095",
   "metadata": {},
   "outputs": [
    {
     "data": {
      "image/png": "[encoded data removed]",
      "text/plain": [
       "<Figure size 1296x504 with 1 Axes>"
      ]
     },
     "metadata": {},
     "output_type": "display_data"
    }
   ],
   "source": [
    "e8=data.groupby(['year','week']).order_item_id.count().reset_index()\n",
    "e8['year_week']=e8.year.astype(str)+'-'+e8.week.astype(str)\n",
    "plt.figure(figsize=(18,7))\n",
    "sns.scatterplot(e8.year_week,e8.order_item_id)\n",
    "plt.ticklabel_format(style='plain',axis='y')\n",
    "plt.ylabel('quantity')\n",
    "plt.xticks(rotation=90)\n",
    "plt.show()"
   ]
  },
  {
   "cell_type": "code",
   "execution_count": 90,
   "id": "07375df6",
   "metadata": {},
   "outputs": [],
   "source": [
    "# sales by day"
   ]
  },
  {
   "cell_type": "code",
   "execution_count": 91,
   "id": "bfecdaf1",
   "metadata": {},
   "outputs": [
    {
     "data": {
      "image/png": "[encoded data removed]",
      "text/plain": [
       "<Figure size 1296x504 with 1 Axes>"
      ]
     },
     "metadata": {},
     "output_type": "display_data"
    }
   ],
   "source": [
    "e9=data.groupby('day').price_to_pay.sum().reset_index()\n",
    "plt.figure(figsize=(18,7))\n",
    "sns.lineplot(x='day',y='price_to_pay',data=e9)\n",
    "plt.ticklabel_format(style='plain',axis='y')\n",
    "plt.ylabel('Sales')\n",
    "plt.xticks(rotation=90)\n",
    "plt.show()"
   ]
  },
  {
   "cell_type": "code",
   "execution_count": 92,
   "id": "aeedbe25",
   "metadata": {},
   "outputs": [],
   "source": [
    "# quantity by day"
   ]
  },
  {
   "cell_type": "code",
   "execution_count": 93,
   "id": "6f6e0e65",
   "metadata": {},
   "outputs": [
    {
     "data": {
      "image/png": "[encoded data removed]",
      "text/plain": [
       "<Figure size 1296x504 with 1 Axes>"
      ]
     },
     "metadata": {},
     "output_type": "display_data"
    }
   ],
   "source": [
    "e10=data.groupby('day').order_item_id.count().reset_index()\n",
    "plt.figure(figsize=(18,7))\n",
    "sns.lineplot(x='day',y='order_item_id',data=e10)\n",
    "plt.ticklabel_format(style='plain',axis='y')\n",
    "plt.ylabel('quantity')\n",
    "plt.xticks(rotation=90)\n",
    "plt.show()"
   ]
  },
  {
   "cell_type": "code",
   "execution_count": 94,
   "id": "3fc914c6",
   "metadata": {},
   "outputs": [],
   "source": [
    "# sales by payment method"
   ]
  },
  {
   "cell_type": "code",
   "execution_count": 95,
   "id": "cab0ec3f",
   "metadata": {},
   "outputs": [
    {
     "data": {
      "text/plain": [
       "5"
      ]
     },
     "execution_count": 95,
     "metadata": {},
     "output_type": "execute_result"
    }
   ],
   "source": [
    "order_payments.payment_type.nunique()"
   ]
  },
  {
   "cell_type": "code",
   "execution_count": 96,
   "id": "1ed0083b",
   "metadata": {},
   "outputs": [
    {
     "data": {
      "text/plain": [
       "payment_type\n",
       "UPI             2869361.27\n",
       "credit_card    12542084.19\n",
       "debit_card       217989.79\n",
       "not_defined           0.00\n",
       "voucher          379436.87\n",
       "Name: payment_value, dtype: float64"
      ]
     },
     "execution_count": 96,
     "metadata": {},
     "output_type": "execute_result"
    }
   ],
   "source": [
    "order_payments.groupby('payment_type').payment_value.sum()"
   ]
  },
  {
   "cell_type": "code",
   "execution_count": 97,
   "id": "e21580fd",
   "metadata": {},
   "outputs": [
    {
     "data": {
      "image/png": "[encoded data removed]",
      "text/plain": [
       "<Figure size 864x360 with 1 Axes>"
      ]
     },
     "metadata": {},
     "output_type": "display_data"
    }
   ],
   "source": [
    "e11=order_payments.groupby('payment_type').payment_value.sum().reset_index()\n",
    "plt.figure(figsize=(12,5))\n",
    "sns.barplot(e11.payment_type,e11.payment_value)\n",
    "plt.ticklabel_format(style='plain',axis='y')\n",
    "plt.ylabel('Sales')\n",
    "plt.xticks(rotation=90)\n",
    "plt.show()"
   ]
  },
  {
   "cell_type": "markdown",
   "id": "e0abcd55",
   "metadata": {},
   "source": [
    "## f. Popular Products by month, seller, state, category."
   ]
  },
  {
   "cell_type": "code",
   "execution_count": 98,
   "id": "301d9435",
   "metadata": {},
   "outputs": [],
   "source": [
    "# popular products by month (top 5 products per month)"
   ]
  },
  {
   "cell_type": "code",
   "execution_count": 99,
   "id": "13d6ab8e",
   "metadata": {},
   "outputs": [
    {
     "data": {
      "text/html": [
       "<div>\n",
       "<style scoped>\n",
       "    .dataframe tbody tr th:only-of-type {\n",
       "        vertical-align: middle;\n",
       "    }\n",
       "\n",
       "    .dataframe tbody tr th {\n",
       "        vertical-align: top;\n",
       "    }\n",
       "\n",
       "    .dataframe thead th {\n",
       "        text-align: right;\n",
       "    }\n",
       "</style>\n",
       "<table border=\"1\" class=\"dataframe\">\n",
       "  <thead>\n",
       "    <tr style=\"text-align: right;\">\n",
       "      <th></th>\n",
       "      <th>month_year</th>\n",
       "      <th>product</th>\n",
       "    </tr>\n",
       "  </thead>\n",
       "  <tbody>\n",
       "    <tr>\n",
       "      <th>0</th>\n",
       "      <td>2016-09</td>\n",
       "      <td>c1488892604e4ba5cff5b4eb4d595400</td>\n",
       "    </tr>\n",
       "    <tr>\n",
       "      <th>1</th>\n",
       "      <td>2016-09</td>\n",
       "      <td>f293394c72c9b5fafd7023301fc21fc2</td>\n",
       "    </tr>\n",
       "    <tr>\n",
       "      <th>2</th>\n",
       "      <td>2016-09</td>\n",
       "      <td>f3c2d01a84c947b078e32bbef0718962</td>\n",
       "    </tr>\n",
       "    <tr>\n",
       "      <th>3</th>\n",
       "      <td>2016-09</td>\n",
       "      <td>unknown</td>\n",
       "    </tr>\n",
       "    <tr>\n",
       "      <th>4</th>\n",
       "      <td>2016-10</td>\n",
       "      <td>unknown</td>\n",
       "    </tr>\n",
       "    <tr>\n",
       "      <th>...</th>\n",
       "      <td>...</td>\n",
       "      <td>...</td>\n",
       "    </tr>\n",
       "    <tr>\n",
       "      <th>108</th>\n",
       "      <td>2018-08</td>\n",
       "      <td>19c91ef95d509ea33eda93495c4d3481</td>\n",
       "    </tr>\n",
       "    <tr>\n",
       "      <th>109</th>\n",
       "      <td>2018-08</td>\n",
       "      <td>3fbc0ef745950c7932d5f2a446189725</td>\n",
       "    </tr>\n",
       "    <tr>\n",
       "      <th>110</th>\n",
       "      <td>2018-09</td>\n",
       "      <td>unknown</td>\n",
       "    </tr>\n",
       "    <tr>\n",
       "      <th>111</th>\n",
       "      <td>2018-09</td>\n",
       "      <td>b98992ea80b467987a7fbb88e7f2076a</td>\n",
       "    </tr>\n",
       "    <tr>\n",
       "      <th>112</th>\n",
       "      <td>2018-10</td>\n",
       "      <td>unknown</td>\n",
       "    </tr>\n",
       "  </tbody>\n",
       "</table>\n",
       "<p>113 rows × 2 columns</p>\n",
       "</div>"
      ],
      "text/plain": [
       "    month_year                           product\n",
       "0      2016-09  c1488892604e4ba5cff5b4eb4d595400\n",
       "1      2016-09  f293394c72c9b5fafd7023301fc21fc2\n",
       "2      2016-09  f3c2d01a84c947b078e32bbef0718962\n",
       "3      2016-09                           unknown\n",
       "4      2016-10                           unknown\n",
       "..         ...                               ...\n",
       "108    2018-08  19c91ef95d509ea33eda93495c4d3481\n",
       "109    2018-08  3fbc0ef745950c7932d5f2a446189725\n",
       "110    2018-09                           unknown\n",
       "111    2018-09  b98992ea80b467987a7fbb88e7f2076a\n",
       "112    2018-10                           unknown\n",
       "\n",
       "[113 rows x 2 columns]"
      ]
     },
     "execution_count": 99,
     "metadata": {},
     "output_type": "execute_result"
    }
   ],
   "source": [
    "f1=data.groupby(['month_year',data.product_id.rename('product')]).product_id.count().reset_index().sort_values(by=['month_year','product_id'],ascending=[True,False])\n",
    "f1=f1.groupby('month_year').head(5).reset_index(drop=True)\n",
    "f1[['month_year','product']]"
   ]
  },
  {
   "cell_type": "code",
   "execution_count": 100,
   "id": "23bf487c",
   "metadata": {},
   "outputs": [],
   "source": [
    "# popular products by seller (top 5 products for seller)"
   ]
  },
  {
   "cell_type": "code",
   "execution_count": 101,
   "id": "397b612f",
   "metadata": {},
   "outputs": [
    {
     "data": {
      "text/html": [
       "<div>\n",
       "<style scoped>\n",
       "    .dataframe tbody tr th:only-of-type {\n",
       "        vertical-align: middle;\n",
       "    }\n",
       "\n",
       "    .dataframe tbody tr th {\n",
       "        vertical-align: top;\n",
       "    }\n",
       "\n",
       "    .dataframe thead th {\n",
       "        text-align: right;\n",
       "    }\n",
       "</style>\n",
       "<table border=\"1\" class=\"dataframe\">\n",
       "  <thead>\n",
       "    <tr style=\"text-align: right;\">\n",
       "      <th></th>\n",
       "      <th>seller_id</th>\n",
       "      <th>product</th>\n",
       "    </tr>\n",
       "  </thead>\n",
       "  <tbody>\n",
       "    <tr>\n",
       "      <th>0</th>\n",
       "      <td>0015a82c2db000af6aaaf3ae2ecb0532</td>\n",
       "      <td>a2ff5a97bf95719e38ea2e3b4105bce8</td>\n",
       "    </tr>\n",
       "    <tr>\n",
       "      <th>1</th>\n",
       "      <td>001cca7ae9ae17fb1caed9dfb1094831</td>\n",
       "      <td>08574b074924071f4e201e151b152b4e</td>\n",
       "    </tr>\n",
       "    <tr>\n",
       "      <th>2</th>\n",
       "      <td>001cca7ae9ae17fb1caed9dfb1094831</td>\n",
       "      <td>e251ebd2858be1aa7d9b2087a6992580</td>\n",
       "    </tr>\n",
       "    <tr>\n",
       "      <th>3</th>\n",
       "      <td>001cca7ae9ae17fb1caed9dfb1094831</td>\n",
       "      <td>98a8c2fa16d7239c606640f5555768e4</td>\n",
       "    </tr>\n",
       "    <tr>\n",
       "      <th>4</th>\n",
       "      <td>001cca7ae9ae17fb1caed9dfb1094831</td>\n",
       "      <td>0da9ffd92214425d880de3f94e74ce39</td>\n",
       "    </tr>\n",
       "    <tr>\n",
       "      <th>...</th>\n",
       "      <td>...</td>\n",
       "      <td>...</td>\n",
       "    </tr>\n",
       "    <tr>\n",
       "      <th>10368</th>\n",
       "      <td>ffff564a4f9085cd26170f4732393726</td>\n",
       "      <td>96aca2f53bcaed6f466449f7fb18ae75</td>\n",
       "    </tr>\n",
       "    <tr>\n",
       "      <th>10369</th>\n",
       "      <td>ffff564a4f9085cd26170f4732393726</td>\n",
       "      <td>c4b925e40f11289063a854c47aaef129</td>\n",
       "    </tr>\n",
       "    <tr>\n",
       "      <th>10370</th>\n",
       "      <td>ffff564a4f9085cd26170f4732393726</td>\n",
       "      <td>c5897f6f2d995196dbb40542439da9b9</td>\n",
       "    </tr>\n",
       "    <tr>\n",
       "      <th>10371</th>\n",
       "      <td>ffff564a4f9085cd26170f4732393726</td>\n",
       "      <td>dbd024d4182504993ad1e3cd2ee9d9e9</td>\n",
       "    </tr>\n",
       "    <tr>\n",
       "      <th>10372</th>\n",
       "      <td>unknown</td>\n",
       "      <td>unknown</td>\n",
       "    </tr>\n",
       "  </tbody>\n",
       "</table>\n",
       "<p>10373 rows × 2 columns</p>\n",
       "</div>"
      ],
      "text/plain": [
       "                              seller_id                           product\n",
       "0      0015a82c2db000af6aaaf3ae2ecb0532  a2ff5a97bf95719e38ea2e3b4105bce8\n",
       "1      001cca7ae9ae17fb1caed9dfb1094831  08574b074924071f4e201e151b152b4e\n",
       "2      001cca7ae9ae17fb1caed9dfb1094831  e251ebd2858be1aa7d9b2087a6992580\n",
       "3      001cca7ae9ae17fb1caed9dfb1094831  98a8c2fa16d7239c606640f5555768e4\n",
       "4      001cca7ae9ae17fb1caed9dfb1094831  0da9ffd92214425d880de3f94e74ce39\n",
       "...                                 ...                               ...\n",
       "10368  ffff564a4f9085cd26170f4732393726  96aca2f53bcaed6f466449f7fb18ae75\n",
       "10369  ffff564a4f9085cd26170f4732393726  c4b925e40f11289063a854c47aaef129\n",
       "10370  ffff564a4f9085cd26170f4732393726  c5897f6f2d995196dbb40542439da9b9\n",
       "10371  ffff564a4f9085cd26170f4732393726  dbd024d4182504993ad1e3cd2ee9d9e9\n",
       "10372                           unknown                           unknown\n",
       "\n",
       "[10373 rows x 2 columns]"
      ]
     },
     "execution_count": 101,
     "metadata": {},
     "output_type": "execute_result"
    }
   ],
   "source": [
    "f2=data.groupby(['seller_id',data.product_id.rename('product')]).product_id.count().reset_index().sort_values(by=['seller_id','product_id'],ascending=[True,False])\n",
    "f2=f2.groupby('seller_id').head(5).reset_index(drop=True)\n",
    "f2[['seller_id','product']]"
   ]
  },
  {
   "cell_type": "code",
   "execution_count": 102,
   "id": "51152646",
   "metadata": {},
   "outputs": [],
   "source": [
    "# popular products by state (top 5 products for customer state)"
   ]
  },
  {
   "cell_type": "code",
   "execution_count": 103,
   "id": "ec0d8919",
   "metadata": {},
   "outputs": [
    {
     "data": {
      "text/html": [
       "<div>\n",
       "<style scoped>\n",
       "    .dataframe tbody tr th:only-of-type {\n",
       "        vertical-align: middle;\n",
       "    }\n",
       "\n",
       "    .dataframe tbody tr th {\n",
       "        vertical-align: top;\n",
       "    }\n",
       "\n",
       "    .dataframe thead th {\n",
       "        text-align: right;\n",
       "    }\n",
       "</style>\n",
       "<table border=\"1\" class=\"dataframe\">\n",
       "  <thead>\n",
       "    <tr style=\"text-align: right;\">\n",
       "      <th></th>\n",
       "      <th>customer_state</th>\n",
       "      <th>product</th>\n",
       "    </tr>\n",
       "  </thead>\n",
       "  <tbody>\n",
       "    <tr>\n",
       "      <th>0</th>\n",
       "      <td>Andhra Pradesh</td>\n",
       "      <td>unknown</td>\n",
       "    </tr>\n",
       "    <tr>\n",
       "      <th>1</th>\n",
       "      <td>Andhra Pradesh</td>\n",
       "      <td>aca2eb7d00ea1a7b8ebd4e68314663af</td>\n",
       "    </tr>\n",
       "    <tr>\n",
       "      <th>2</th>\n",
       "      <td>Andhra Pradesh</td>\n",
       "      <td>99a4788cb24856965c36a24e339b6058</td>\n",
       "    </tr>\n",
       "    <tr>\n",
       "      <th>3</th>\n",
       "      <td>Andhra Pradesh</td>\n",
       "      <td>422879e10f46682990de24d770e7f83d</td>\n",
       "    </tr>\n",
       "    <tr>\n",
       "      <th>4</th>\n",
       "      <td>Andhra Pradesh</td>\n",
       "      <td>53b36df67ebb7c41585e8d54d6772e08</td>\n",
       "    </tr>\n",
       "    <tr>\n",
       "      <th>...</th>\n",
       "      <td>...</td>\n",
       "      <td>...</td>\n",
       "    </tr>\n",
       "    <tr>\n",
       "      <th>95</th>\n",
       "      <td>West Bengal</td>\n",
       "      <td>99a4788cb24856965c36a24e339b6058</td>\n",
       "    </tr>\n",
       "    <tr>\n",
       "      <th>96</th>\n",
       "      <td>West Bengal</td>\n",
       "      <td>30ac6df06dc59ad72cf2f158fc2d904c</td>\n",
       "    </tr>\n",
       "    <tr>\n",
       "      <th>97</th>\n",
       "      <td>West Bengal</td>\n",
       "      <td>389d119b48cf3043d311335e499d9c6b</td>\n",
       "    </tr>\n",
       "    <tr>\n",
       "      <th>98</th>\n",
       "      <td>West Bengal</td>\n",
       "      <td>ffaf0af7eebb57c7f262b51ebb05dfd6</td>\n",
       "    </tr>\n",
       "    <tr>\n",
       "      <th>99</th>\n",
       "      <td>West Bengal</td>\n",
       "      <td>unknown</td>\n",
       "    </tr>\n",
       "  </tbody>\n",
       "</table>\n",
       "<p>100 rows × 2 columns</p>\n",
       "</div>"
      ],
      "text/plain": [
       "    customer_state                           product\n",
       "0   Andhra Pradesh                           unknown\n",
       "1   Andhra Pradesh  aca2eb7d00ea1a7b8ebd4e68314663af\n",
       "2   Andhra Pradesh  99a4788cb24856965c36a24e339b6058\n",
       "3   Andhra Pradesh  422879e10f46682990de24d770e7f83d\n",
       "4   Andhra Pradesh  53b36df67ebb7c41585e8d54d6772e08\n",
       "..             ...                               ...\n",
       "95     West Bengal  99a4788cb24856965c36a24e339b6058\n",
       "96     West Bengal  30ac6df06dc59ad72cf2f158fc2d904c\n",
       "97     West Bengal  389d119b48cf3043d311335e499d9c6b\n",
       "98     West Bengal  ffaf0af7eebb57c7f262b51ebb05dfd6\n",
       "99     West Bengal                           unknown\n",
       "\n",
       "[100 rows x 2 columns]"
      ]
     },
     "execution_count": 103,
     "metadata": {},
     "output_type": "execute_result"
    }
   ],
   "source": [
    "f3=data.groupby(['customer_state',data.product_id.rename('product')]).product_id.count().reset_index().sort_values(by=['customer_state','product_id'],ascending=[True,False])\n",
    "f3=f3.groupby('customer_state').head(5).reset_index(drop=True)\n",
    "f3[['customer_state','product']]"
   ]
  },
  {
   "cell_type": "code",
   "execution_count": 104,
   "id": "f180eaba",
   "metadata": {},
   "outputs": [],
   "source": [
    "# popular products by category"
   ]
  },
  {
   "cell_type": "code",
   "execution_count": 105,
   "id": "5b0cde36",
   "metadata": {},
   "outputs": [
    {
     "data": {
      "text/html": [
       "<div>\n",
       "<style scoped>\n",
       "    .dataframe tbody tr th:only-of-type {\n",
       "        vertical-align: middle;\n",
       "    }\n",
       "\n",
       "    .dataframe tbody tr th {\n",
       "        vertical-align: top;\n",
       "    }\n",
       "\n",
       "    .dataframe thead th {\n",
       "        text-align: right;\n",
       "    }\n",
       "</style>\n",
       "<table border=\"1\" class=\"dataframe\">\n",
       "  <thead>\n",
       "    <tr style=\"text-align: right;\">\n",
       "      <th></th>\n",
       "      <th>product_category_name</th>\n",
       "      <th>product</th>\n",
       "    </tr>\n",
       "  </thead>\n",
       "  <tbody>\n",
       "    <tr>\n",
       "      <th>0</th>\n",
       "      <td>Agro_Industry_And_Commerce</td>\n",
       "      <td>11250b0d4b709fee92441c5f34122aed</td>\n",
       "    </tr>\n",
       "    <tr>\n",
       "      <th>1</th>\n",
       "      <td>Agro_Industry_And_Commerce</td>\n",
       "      <td>423a6644f0aa529e8828ff1f91003690</td>\n",
       "    </tr>\n",
       "    <tr>\n",
       "      <th>2</th>\n",
       "      <td>Agro_Industry_And_Commerce</td>\n",
       "      <td>672e757f331900b9deea127a2a7b79fd</td>\n",
       "    </tr>\n",
       "    <tr>\n",
       "      <th>3</th>\n",
       "      <td>Agro_Industry_And_Commerce</td>\n",
       "      <td>3bebad3cf2c8d1a8d3ce97174643e054</td>\n",
       "    </tr>\n",
       "    <tr>\n",
       "      <th>4</th>\n",
       "      <td>Agro_Industry_And_Commerce</td>\n",
       "      <td>a0fe1efb855f3e786f0650268cd77f44</td>\n",
       "    </tr>\n",
       "    <tr>\n",
       "      <th>...</th>\n",
       "      <td>...</td>\n",
       "      <td>...</td>\n",
       "    </tr>\n",
       "    <tr>\n",
       "      <th>348</th>\n",
       "      <td>unknown</td>\n",
       "      <td>unknown</td>\n",
       "    </tr>\n",
       "    <tr>\n",
       "      <th>349</th>\n",
       "      <td>unknown</td>\n",
       "      <td>5a848e4ab52fd5445cdc07aab1c40e48</td>\n",
       "    </tr>\n",
       "    <tr>\n",
       "      <th>350</th>\n",
       "      <td>unknown</td>\n",
       "      <td>b1d207586fca400a2370d50a9ba1da98</td>\n",
       "    </tr>\n",
       "    <tr>\n",
       "      <th>351</th>\n",
       "      <td>unknown</td>\n",
       "      <td>76d1a1a9d21ab677a61c3ae34b1b352f</td>\n",
       "    </tr>\n",
       "    <tr>\n",
       "      <th>352</th>\n",
       "      <td>unknown</td>\n",
       "      <td>3b60d513e90300a4e9833e5cda1f1d61</td>\n",
       "    </tr>\n",
       "  </tbody>\n",
       "</table>\n",
       "<p>353 rows × 2 columns</p>\n",
       "</div>"
      ],
      "text/plain": [
       "          product_category_name                           product\n",
       "0    Agro_Industry_And_Commerce  11250b0d4b709fee92441c5f34122aed\n",
       "1    Agro_Industry_And_Commerce  423a6644f0aa529e8828ff1f91003690\n",
       "2    Agro_Industry_And_Commerce  672e757f331900b9deea127a2a7b79fd\n",
       "3    Agro_Industry_And_Commerce  3bebad3cf2c8d1a8d3ce97174643e054\n",
       "4    Agro_Industry_And_Commerce  a0fe1efb855f3e786f0650268cd77f44\n",
       "..                          ...                               ...\n",
       "348                     unknown                           unknown\n",
       "349                     unknown  5a848e4ab52fd5445cdc07aab1c40e48\n",
       "350                     unknown  b1d207586fca400a2370d50a9ba1da98\n",
       "351                     unknown  76d1a1a9d21ab677a61c3ae34b1b352f\n",
       "352                     unknown  3b60d513e90300a4e9833e5cda1f1d61\n",
       "\n",
       "[353 rows x 2 columns]"
      ]
     },
     "execution_count": 105,
     "metadata": {},
     "output_type": "execute_result"
    }
   ],
   "source": [
    "f4=data.groupby(['product_category_name',data.product_id.rename('product')]).product_id.count().reset_index().sort_values(by=['product_category_name','product_id'],ascending=[True,False])\n",
    "f4=f4.groupby('product_category_name').head(5).reset_index(drop=True)\n",
    "f4[['product_category_name','product']]"
   ]
  },
  {
   "cell_type": "markdown",
   "id": "0608ba0c",
   "metadata": {},
   "source": [
    "## g. Popular categories by state, month"
   ]
  },
  {
   "cell_type": "code",
   "execution_count": 106,
   "id": "8266c4d5",
   "metadata": {},
   "outputs": [],
   "source": [
    "# popular categories by state(Top 5 categories)"
   ]
  },
  {
   "cell_type": "code",
   "execution_count": 107,
   "id": "b0200cdc",
   "metadata": {},
   "outputs": [
    {
     "data": {
      "text/html": [
       "<div>\n",
       "<style scoped>\n",
       "    .dataframe tbody tr th:only-of-type {\n",
       "        vertical-align: middle;\n",
       "    }\n",
       "\n",
       "    .dataframe tbody tr th {\n",
       "        vertical-align: top;\n",
       "    }\n",
       "\n",
       "    .dataframe thead th {\n",
       "        text-align: right;\n",
       "    }\n",
       "</style>\n",
       "<table border=\"1\" class=\"dataframe\">\n",
       "  <thead>\n",
       "    <tr style=\"text-align: right;\">\n",
       "      <th></th>\n",
       "      <th>customer_state</th>\n",
       "      <th>category</th>\n",
       "    </tr>\n",
       "  </thead>\n",
       "  <tbody>\n",
       "    <tr>\n",
       "      <th>0</th>\n",
       "      <td>Andhra Pradesh</td>\n",
       "      <td>Bed_Bath_Table</td>\n",
       "    </tr>\n",
       "    <tr>\n",
       "      <th>1</th>\n",
       "      <td>Andhra Pradesh</td>\n",
       "      <td>Health_Beauty</td>\n",
       "    </tr>\n",
       "    <tr>\n",
       "      <th>2</th>\n",
       "      <td>Andhra Pradesh</td>\n",
       "      <td>Sports_Leisure</td>\n",
       "    </tr>\n",
       "    <tr>\n",
       "      <th>3</th>\n",
       "      <td>Andhra Pradesh</td>\n",
       "      <td>Furniture_Decor</td>\n",
       "    </tr>\n",
       "    <tr>\n",
       "      <th>4</th>\n",
       "      <td>Andhra Pradesh</td>\n",
       "      <td>Computers_Accessories</td>\n",
       "    </tr>\n",
       "    <tr>\n",
       "      <th>...</th>\n",
       "      <td>...</td>\n",
       "      <td>...</td>\n",
       "    </tr>\n",
       "    <tr>\n",
       "      <th>95</th>\n",
       "      <td>West Bengal</td>\n",
       "      <td>Health_Beauty</td>\n",
       "    </tr>\n",
       "    <tr>\n",
       "      <th>96</th>\n",
       "      <td>West Bengal</td>\n",
       "      <td>Telephony</td>\n",
       "    </tr>\n",
       "    <tr>\n",
       "      <th>97</th>\n",
       "      <td>West Bengal</td>\n",
       "      <td>Computers_Accessories</td>\n",
       "    </tr>\n",
       "    <tr>\n",
       "      <th>98</th>\n",
       "      <td>West Bengal</td>\n",
       "      <td>Bed_Bath_Table</td>\n",
       "    </tr>\n",
       "    <tr>\n",
       "      <th>99</th>\n",
       "      <td>West Bengal</td>\n",
       "      <td>Sports_Leisure</td>\n",
       "    </tr>\n",
       "  </tbody>\n",
       "</table>\n",
       "<p>100 rows × 2 columns</p>\n",
       "</div>"
      ],
      "text/plain": [
       "    customer_state               category\n",
       "0   Andhra Pradesh         Bed_Bath_Table\n",
       "1   Andhra Pradesh          Health_Beauty\n",
       "2   Andhra Pradesh         Sports_Leisure\n",
       "3   Andhra Pradesh        Furniture_Decor\n",
       "4   Andhra Pradesh  Computers_Accessories\n",
       "..             ...                    ...\n",
       "95     West Bengal          Health_Beauty\n",
       "96     West Bengal              Telephony\n",
       "97     West Bengal  Computers_Accessories\n",
       "98     West Bengal         Bed_Bath_Table\n",
       "99     West Bengal         Sports_Leisure\n",
       "\n",
       "[100 rows x 2 columns]"
      ]
     },
     "execution_count": 107,
     "metadata": {},
     "output_type": "execute_result"
    }
   ],
   "source": [
    "g1=data.groupby(['customer_state',data.product_category_name.rename('category')]).product_category_name.count().reset_index().sort_values(by=['customer_state','product_category_name'],ascending=[True,False])\n",
    "g1=g1.groupby('customer_state').head(5).reset_index(drop=True)\n",
    "g1[['customer_state','category']]"
   ]
  },
  {
   "cell_type": "code",
   "execution_count": 108,
   "id": "0955c757",
   "metadata": {},
   "outputs": [],
   "source": [
    "#  popular categories by month(Top 5 categories)"
   ]
  },
  {
   "cell_type": "code",
   "execution_count": 109,
   "id": "21a95b67",
   "metadata": {},
   "outputs": [
    {
     "data": {
      "text/html": [
       "<div>\n",
       "<style scoped>\n",
       "    .dataframe tbody tr th:only-of-type {\n",
       "        vertical-align: middle;\n",
       "    }\n",
       "\n",
       "    .dataframe tbody tr th {\n",
       "        vertical-align: top;\n",
       "    }\n",
       "\n",
       "    .dataframe thead th {\n",
       "        text-align: right;\n",
       "    }\n",
       "</style>\n",
       "<table border=\"1\" class=\"dataframe\">\n",
       "  <thead>\n",
       "    <tr style=\"text-align: right;\">\n",
       "      <th></th>\n",
       "      <th>month_year</th>\n",
       "      <th>category</th>\n",
       "    </tr>\n",
       "  </thead>\n",
       "  <tbody>\n",
       "    <tr>\n",
       "      <th>0</th>\n",
       "      <td>2016-09</td>\n",
       "      <td>Furniture_Decor</td>\n",
       "    </tr>\n",
       "    <tr>\n",
       "      <th>1</th>\n",
       "      <td>2016-09</td>\n",
       "      <td>Telephony</td>\n",
       "    </tr>\n",
       "    <tr>\n",
       "      <th>2</th>\n",
       "      <td>2016-09</td>\n",
       "      <td>unknown</td>\n",
       "    </tr>\n",
       "    <tr>\n",
       "      <th>3</th>\n",
       "      <td>2016-10</td>\n",
       "      <td>Furniture_Decor</td>\n",
       "    </tr>\n",
       "    <tr>\n",
       "      <th>4</th>\n",
       "      <td>2016-10</td>\n",
       "      <td>Health_Beauty</td>\n",
       "    </tr>\n",
       "    <tr>\n",
       "      <th>...</th>\n",
       "      <td>...</td>\n",
       "      <td>...</td>\n",
       "    </tr>\n",
       "    <tr>\n",
       "      <th>107</th>\n",
       "      <td>2018-08</td>\n",
       "      <td>Sports_Leisure</td>\n",
       "    </tr>\n",
       "    <tr>\n",
       "      <th>108</th>\n",
       "      <td>2018-08</td>\n",
       "      <td>Furniture_Decor</td>\n",
       "    </tr>\n",
       "    <tr>\n",
       "      <th>109</th>\n",
       "      <td>2018-09</td>\n",
       "      <td>unknown</td>\n",
       "    </tr>\n",
       "    <tr>\n",
       "      <th>110</th>\n",
       "      <td>2018-09</td>\n",
       "      <td>Kitchen_Dining_Laundry_Garden_Furniture</td>\n",
       "    </tr>\n",
       "    <tr>\n",
       "      <th>111</th>\n",
       "      <td>2018-10</td>\n",
       "      <td>unknown</td>\n",
       "    </tr>\n",
       "  </tbody>\n",
       "</table>\n",
       "<p>112 rows × 2 columns</p>\n",
       "</div>"
      ],
      "text/plain": [
       "    month_year                                 category\n",
       "0      2016-09                          Furniture_Decor\n",
       "1      2016-09                                Telephony\n",
       "2      2016-09                                  unknown\n",
       "3      2016-10                          Furniture_Decor\n",
       "4      2016-10                            Health_Beauty\n",
       "..         ...                                      ...\n",
       "107    2018-08                           Sports_Leisure\n",
       "108    2018-08                          Furniture_Decor\n",
       "109    2018-09                                  unknown\n",
       "110    2018-09  Kitchen_Dining_Laundry_Garden_Furniture\n",
       "111    2018-10                                  unknown\n",
       "\n",
       "[112 rows x 2 columns]"
      ]
     },
     "execution_count": 109,
     "metadata": {},
     "output_type": "execute_result"
    }
   ],
   "source": [
    "g1=data.groupby(['month_year',data.product_category_name.rename('category')]).product_category_name.count().reset_index().sort_values(by=['month_year','product_category_name'],ascending=[True,False])\n",
    "g1=g1.groupby('month_year').head(5).reset_index(drop=True)\n",
    "g1[['month_year','category']]"
   ]
  },
  {
   "cell_type": "markdown",
   "id": "940c9c85",
   "metadata": {},
   "source": [
    "## h. List top 10 most expensive products sorted by price"
   ]
  },
  {
   "cell_type": "code",
   "execution_count": 110,
   "id": "9dc5c868",
   "metadata": {},
   "outputs": [
    {
     "data": {
      "text/plain": [
       "0    489ae2aa008f021502940f251d4cce7f\n",
       "1    69c590f7ffc7bf8db97190b6cb6ed62e\n",
       "2    1bdf5e6731585cf01aa8169c7028d6ad\n",
       "3    a6492cc69376c469ab6f61d8f44de961\n",
       "4    c3ed642d592594bb648ff4a04cee2747\n",
       "5    259037a6a41845e455183f89c5035f18\n",
       "6    a1beef8f3992dbd4cd8726796aa69c53\n",
       "7    6cdf8fc1d741c76586d8b6b15e9eef30\n",
       "8    6902c1962dd19d540807d0ab8fade5c6\n",
       "9    4ca7b91a31637bd24fb8e559d5e015e4\n",
       "Name: product_id, dtype: object"
      ]
     },
     "execution_count": 110,
     "metadata": {},
     "output_type": "execute_result"
    }
   ],
   "source": [
    "data.groupby('product_id').price.mean().sort_values(ascending=False).head(10).reset_index().product_id"
   ]
  },
  {
   "cell_type": "markdown",
   "id": "bd5b02c3",
   "metadata": {},
   "source": [
    "# 2. Performing Customers/sellers Segmentation"
   ]
  },
  {
   "cell_type": "markdown",
   "id": "48b97688",
   "metadata": {},
   "source": [
    "## a. Divide the customers into groups based on the revenue generated"
   ]
  },
  {
   "cell_type": "code",
   "execution_count": 111,
   "id": "e67873c0",
   "metadata": {},
   "outputs": [],
   "source": [
    "a2=data.groupby('customer_id').price_to_pay.sum().reset_index()"
   ]
  },
  {
   "cell_type": "code",
   "execution_count": 112,
   "id": "d9e64cdb",
   "metadata": {},
   "outputs": [],
   "source": [
    "a2['Group_number']=pd.qcut(a2['price_to_pay'],10,labels=False)"
   ]
  },
  {
   "cell_type": "code",
   "execution_count": 113,
   "id": "51a98a6d",
   "metadata": {},
   "outputs": [
    {
     "data": {
      "text/html": [
       "<div>\n",
       "<style scoped>\n",
       "    .dataframe tbody tr th:only-of-type {\n",
       "        vertical-align: middle;\n",
       "    }\n",
       "\n",
       "    .dataframe tbody tr th {\n",
       "        vertical-align: top;\n",
       "    }\n",
       "\n",
       "    .dataframe thead th {\n",
       "        text-align: right;\n",
       "    }\n",
       "</style>\n",
       "<table border=\"1\" class=\"dataframe\">\n",
       "  <thead>\n",
       "    <tr style=\"text-align: right;\">\n",
       "      <th></th>\n",
       "      <th>customer_id</th>\n",
       "      <th>Group_number</th>\n",
       "    </tr>\n",
       "  </thead>\n",
       "  <tbody>\n",
       "    <tr>\n",
       "      <th>0</th>\n",
       "      <td>00012a2ce6f8dcda20d059ce98491703</td>\n",
       "      <td>5</td>\n",
       "    </tr>\n",
       "    <tr>\n",
       "      <th>1</th>\n",
       "      <td>000161a058600d5901f007fab4c27140</td>\n",
       "      <td>2</td>\n",
       "    </tr>\n",
       "    <tr>\n",
       "      <th>2</th>\n",
       "      <td>0001fd6190edaaf884bcaf3d49edf079</td>\n",
       "      <td>7</td>\n",
       "    </tr>\n",
       "    <tr>\n",
       "      <th>3</th>\n",
       "      <td>0002414f95344307404f0ace7a26f1d5</td>\n",
       "      <td>7</td>\n",
       "    </tr>\n",
       "    <tr>\n",
       "      <th>4</th>\n",
       "      <td>000379cdec625522490c315e70c7a9fb</td>\n",
       "      <td>5</td>\n",
       "    </tr>\n",
       "    <tr>\n",
       "      <th>...</th>\n",
       "      <td>...</td>\n",
       "      <td>...</td>\n",
       "    </tr>\n",
       "    <tr>\n",
       "      <th>99435</th>\n",
       "      <td>fffecc9f79fd8c764f843e9951b11341</td>\n",
       "      <td>3</td>\n",
       "    </tr>\n",
       "    <tr>\n",
       "      <th>99436</th>\n",
       "      <td>fffeda5b6d849fbd39689bb92087f431</td>\n",
       "      <td>2</td>\n",
       "    </tr>\n",
       "    <tr>\n",
       "      <th>99437</th>\n",
       "      <td>ffff42319e9b2d713724ae527742af25</td>\n",
       "      <td>8</td>\n",
       "    </tr>\n",
       "    <tr>\n",
       "      <th>99438</th>\n",
       "      <td>ffffa3172527f765de70084a7e53aae8</td>\n",
       "      <td>1</td>\n",
       "    </tr>\n",
       "    <tr>\n",
       "      <th>99439</th>\n",
       "      <td>ffffe8b65bbe3087b653a978c870db99</td>\n",
       "      <td>0</td>\n",
       "    </tr>\n",
       "  </tbody>\n",
       "</table>\n",
       "<p>99440 rows × 2 columns</p>\n",
       "</div>"
      ],
      "text/plain": [
       "                            customer_id  Group_number\n",
       "0      00012a2ce6f8dcda20d059ce98491703             5\n",
       "1      000161a058600d5901f007fab4c27140             2\n",
       "2      0001fd6190edaaf884bcaf3d49edf079             7\n",
       "3      0002414f95344307404f0ace7a26f1d5             7\n",
       "4      000379cdec625522490c315e70c7a9fb             5\n",
       "...                                 ...           ...\n",
       "99435  fffecc9f79fd8c764f843e9951b11341             3\n",
       "99436  fffeda5b6d849fbd39689bb92087f431             2\n",
       "99437  ffff42319e9b2d713724ae527742af25             8\n",
       "99438  ffffa3172527f765de70084a7e53aae8             1\n",
       "99439  ffffe8b65bbe3087b653a978c870db99             0\n",
       "\n",
       "[99440 rows x 2 columns]"
      ]
     },
     "execution_count": 113,
     "metadata": {},
     "output_type": "execute_result"
    }
   ],
   "source": [
    "a2[['customer_id','Group_number']]"
   ]
  },
  {
   "cell_type": "markdown",
   "id": "fbd55c1c",
   "metadata": {},
   "source": [
    "## b. Divide the sellers into groups based on the revenue generated"
   ]
  },
  {
   "cell_type": "code",
   "execution_count": 114,
   "id": "81847e67",
   "metadata": {},
   "outputs": [],
   "source": [
    "b2=data.groupby('seller_id').price_to_pay.sum().reset_index()"
   ]
  },
  {
   "cell_type": "code",
   "execution_count": 115,
   "id": "75ef6a06",
   "metadata": {},
   "outputs": [],
   "source": [
    "b2['Group_number']=pd.qcut(b2['price_to_pay'],10,labels=False)"
   ]
  },
  {
   "cell_type": "code",
   "execution_count": 116,
   "id": "962fec1f",
   "metadata": {},
   "outputs": [
    {
     "data": {
      "text/html": [
       "<div>\n",
       "<style scoped>\n",
       "    .dataframe tbody tr th:only-of-type {\n",
       "        vertical-align: middle;\n",
       "    }\n",
       "\n",
       "    .dataframe tbody tr th {\n",
       "        vertical-align: top;\n",
       "    }\n",
       "\n",
       "    .dataframe thead th {\n",
       "        text-align: right;\n",
       "    }\n",
       "</style>\n",
       "<table border=\"1\" class=\"dataframe\">\n",
       "  <thead>\n",
       "    <tr style=\"text-align: right;\">\n",
       "      <th></th>\n",
       "      <th>seller_id</th>\n",
       "      <th>Group_number</th>\n",
       "    </tr>\n",
       "  </thead>\n",
       "  <tbody>\n",
       "    <tr>\n",
       "      <th>0</th>\n",
       "      <td>0015a82c2db000af6aaaf3ae2ecb0532</td>\n",
       "      <td>6</td>\n",
       "    </tr>\n",
       "    <tr>\n",
       "      <th>1</th>\n",
       "      <td>001cca7ae9ae17fb1caed9dfb1094831</td>\n",
       "      <td>9</td>\n",
       "    </tr>\n",
       "    <tr>\n",
       "      <th>2</th>\n",
       "      <td>001e6ad469a905060d959994f1b41e4f</td>\n",
       "      <td>2</td>\n",
       "    </tr>\n",
       "    <tr>\n",
       "      <th>3</th>\n",
       "      <td>002100f778ceb8431b7a1020ff7ab48f</td>\n",
       "      <td>6</td>\n",
       "    </tr>\n",
       "    <tr>\n",
       "      <th>4</th>\n",
       "      <td>003554e2dce176b5555353e4f3555ac8</td>\n",
       "      <td>1</td>\n",
       "    </tr>\n",
       "    <tr>\n",
       "      <th>...</th>\n",
       "      <td>...</td>\n",
       "      <td>...</td>\n",
       "    </tr>\n",
       "    <tr>\n",
       "      <th>3091</th>\n",
       "      <td>ffdd9f82b9a447f6f8d4b91554cc7dd3</td>\n",
       "      <td>6</td>\n",
       "    </tr>\n",
       "    <tr>\n",
       "      <th>3092</th>\n",
       "      <td>ffeee66ac5d5a62fe688b9d26f83f534</td>\n",
       "      <td>6</td>\n",
       "    </tr>\n",
       "    <tr>\n",
       "      <th>3093</th>\n",
       "      <td>fffd5413c0700ac820c7069d66d98c89</td>\n",
       "      <td>9</td>\n",
       "    </tr>\n",
       "    <tr>\n",
       "      <th>3094</th>\n",
       "      <td>ffff564a4f9085cd26170f4732393726</td>\n",
       "      <td>6</td>\n",
       "    </tr>\n",
       "    <tr>\n",
       "      <th>3095</th>\n",
       "      <td>unknown</td>\n",
       "      <td>9</td>\n",
       "    </tr>\n",
       "  </tbody>\n",
       "</table>\n",
       "<p>3096 rows × 2 columns</p>\n",
       "</div>"
      ],
      "text/plain": [
       "                             seller_id  Group_number\n",
       "0     0015a82c2db000af6aaaf3ae2ecb0532             6\n",
       "1     001cca7ae9ae17fb1caed9dfb1094831             9\n",
       "2     001e6ad469a905060d959994f1b41e4f             2\n",
       "3     002100f778ceb8431b7a1020ff7ab48f             6\n",
       "4     003554e2dce176b5555353e4f3555ac8             1\n",
       "...                                ...           ...\n",
       "3091  ffdd9f82b9a447f6f8d4b91554cc7dd3             6\n",
       "3092  ffeee66ac5d5a62fe688b9d26f83f534             6\n",
       "3093  fffd5413c0700ac820c7069d66d98c89             9\n",
       "3094  ffff564a4f9085cd26170f4732393726             6\n",
       "3095                           unknown             9\n",
       "\n",
       "[3096 rows x 2 columns]"
      ]
     },
     "execution_count": 116,
     "metadata": {},
     "output_type": "execute_result"
    }
   ],
   "source": [
    "b2[['seller_id','Group_number']]"
   ]
  },
  {
   "cell_type": "code",
   "execution_count": 117,
   "id": "2452eb3f",
   "metadata": {},
   "outputs": [
    {
     "data": {
      "text/plain": [
       "32952"
      ]
     },
     "execution_count": 117,
     "metadata": {},
     "output_type": "execute_result"
    }
   ],
   "source": [
    "data.product_id.nunique()"
   ]
  },
  {
   "cell_type": "markdown",
   "id": "75bcd79f",
   "metadata": {},
   "source": [
    "## 3. Cross-Selling (Which products are selling together)"
   ]
  },
  {
   "cell_type": "code",
   "execution_count": 118,
   "id": "db976fa4",
   "metadata": {},
   "outputs": [],
   "source": [
    "cs=data.groupby(['order_id','product_id']).order_item_id.count().reset_index()"
   ]
  },
  {
   "cell_type": "code",
   "execution_count": 119,
   "id": "63f24279",
   "metadata": {},
   "outputs": [],
   "source": [
    "cs=pd.crosstab(data.order_id,data.product_category_name)"
   ]
  },
  {
   "cell_type": "code",
   "execution_count": 120,
   "id": "35976479",
   "metadata": {},
   "outputs": [],
   "source": [
    "function=lambda x: True if x>0 else False"
   ]
  },
  {
   "cell_type": "code",
   "execution_count": 121,
   "id": "259573c7",
   "metadata": {},
   "outputs": [],
   "source": [
    "for i in cs.columns:\n",
    "    cs[i]=cs[i].apply(function)"
   ]
  },
  {
   "cell_type": "code",
   "execution_count": 122,
   "id": "60a5bfcc",
   "metadata": {},
   "outputs": [
    {
     "data": {
      "text/html": [
       "<div>\n",
       "<style scoped>\n",
       "    .dataframe tbody tr th:only-of-type {\n",
       "        vertical-align: middle;\n",
       "    }\n",
       "\n",
       "    .dataframe tbody tr th {\n",
       "        vertical-align: top;\n",
       "    }\n",
       "\n",
       "    .dataframe thead th {\n",
       "        text-align: right;\n",
       "    }\n",
       "</style>\n",
       "<table border=\"1\" class=\"dataframe\">\n",
       "  <thead>\n",
       "    <tr style=\"text-align: right;\">\n",
       "      <th>product_category_name</th>\n",
       "      <th>Agro_Industry_And_Commerce</th>\n",
       "      <th>Air_Conditioning</th>\n",
       "      <th>Art</th>\n",
       "      <th>Arts_And_Craftmanship</th>\n",
       "      <th>Audio</th>\n",
       "      <th>Auto</th>\n",
       "      <th>Baby</th>\n",
       "      <th>Bed_Bath_Table</th>\n",
       "      <th>Books_General_Interest</th>\n",
       "      <th>Books_Imported</th>\n",
       "      <th>...</th>\n",
       "      <th>Signaling_And_Security</th>\n",
       "      <th>Small_Appliances</th>\n",
       "      <th>Small_Appliances_Home_Oven_And_Coffee</th>\n",
       "      <th>Sports_Leisure</th>\n",
       "      <th>Stationery</th>\n",
       "      <th>Tablets_Printing_Image</th>\n",
       "      <th>Telephony</th>\n",
       "      <th>Toys</th>\n",
       "      <th>Watches_Gifts</th>\n",
       "      <th>unknown</th>\n",
       "    </tr>\n",
       "    <tr>\n",
       "      <th>order_id</th>\n",
       "      <th></th>\n",
       "      <th></th>\n",
       "      <th></th>\n",
       "      <th></th>\n",
       "      <th></th>\n",
       "      <th></th>\n",
       "      <th></th>\n",
       "      <th></th>\n",
       "      <th></th>\n",
       "      <th></th>\n",
       "      <th></th>\n",
       "      <th></th>\n",
       "      <th></th>\n",
       "      <th></th>\n",
       "      <th></th>\n",
       "      <th></th>\n",
       "      <th></th>\n",
       "      <th></th>\n",
       "      <th></th>\n",
       "      <th></th>\n",
       "      <th></th>\n",
       "    </tr>\n",
       "  </thead>\n",
       "  <tbody>\n",
       "    <tr>\n",
       "      <th>00010242fe8c5a6d1ba2dd792cb16214</th>\n",
       "      <td>False</td>\n",
       "      <td>False</td>\n",
       "      <td>False</td>\n",
       "      <td>False</td>\n",
       "      <td>False</td>\n",
       "      <td>False</td>\n",
       "      <td>False</td>\n",
       "      <td>False</td>\n",
       "      <td>False</td>\n",
       "      <td>False</td>\n",
       "      <td>...</td>\n",
       "      <td>False</td>\n",
       "      <td>False</td>\n",
       "      <td>False</td>\n",
       "      <td>False</td>\n",
       "      <td>False</td>\n",
       "      <td>False</td>\n",
       "      <td>False</td>\n",
       "      <td>False</td>\n",
       "      <td>False</td>\n",
       "      <td>False</td>\n",
       "    </tr>\n",
       "    <tr>\n",
       "      <th>00018f77f2f0320c557190d7a144bdd3</th>\n",
       "      <td>False</td>\n",
       "      <td>False</td>\n",
       "      <td>False</td>\n",
       "      <td>False</td>\n",
       "      <td>False</td>\n",
       "      <td>False</td>\n",
       "      <td>False</td>\n",
       "      <td>False</td>\n",
       "      <td>False</td>\n",
       "      <td>False</td>\n",
       "      <td>...</td>\n",
       "      <td>False</td>\n",
       "      <td>False</td>\n",
       "      <td>False</td>\n",
       "      <td>False</td>\n",
       "      <td>False</td>\n",
       "      <td>False</td>\n",
       "      <td>False</td>\n",
       "      <td>False</td>\n",
       "      <td>False</td>\n",
       "      <td>False</td>\n",
       "    </tr>\n",
       "    <tr>\n",
       "      <th>000229ec398224ef6ca0657da4fc703e</th>\n",
       "      <td>False</td>\n",
       "      <td>False</td>\n",
       "      <td>False</td>\n",
       "      <td>False</td>\n",
       "      <td>False</td>\n",
       "      <td>False</td>\n",
       "      <td>False</td>\n",
       "      <td>False</td>\n",
       "      <td>False</td>\n",
       "      <td>False</td>\n",
       "      <td>...</td>\n",
       "      <td>False</td>\n",
       "      <td>False</td>\n",
       "      <td>False</td>\n",
       "      <td>False</td>\n",
       "      <td>False</td>\n",
       "      <td>False</td>\n",
       "      <td>False</td>\n",
       "      <td>False</td>\n",
       "      <td>False</td>\n",
       "      <td>False</td>\n",
       "    </tr>\n",
       "    <tr>\n",
       "      <th>00024acbcdf0a6daa1e931b038114c75</th>\n",
       "      <td>False</td>\n",
       "      <td>False</td>\n",
       "      <td>False</td>\n",
       "      <td>False</td>\n",
       "      <td>False</td>\n",
       "      <td>False</td>\n",
       "      <td>False</td>\n",
       "      <td>False</td>\n",
       "      <td>False</td>\n",
       "      <td>False</td>\n",
       "      <td>...</td>\n",
       "      <td>False</td>\n",
       "      <td>False</td>\n",
       "      <td>False</td>\n",
       "      <td>False</td>\n",
       "      <td>False</td>\n",
       "      <td>False</td>\n",
       "      <td>False</td>\n",
       "      <td>False</td>\n",
       "      <td>False</td>\n",
       "      <td>False</td>\n",
       "    </tr>\n",
       "    <tr>\n",
       "      <th>00042b26cf59d7ce69dfabb4e55b4fd9</th>\n",
       "      <td>False</td>\n",
       "      <td>False</td>\n",
       "      <td>False</td>\n",
       "      <td>False</td>\n",
       "      <td>False</td>\n",
       "      <td>False</td>\n",
       "      <td>False</td>\n",
       "      <td>False</td>\n",
       "      <td>False</td>\n",
       "      <td>False</td>\n",
       "      <td>...</td>\n",
       "      <td>False</td>\n",
       "      <td>False</td>\n",
       "      <td>False</td>\n",
       "      <td>False</td>\n",
       "      <td>False</td>\n",
       "      <td>False</td>\n",
       "      <td>False</td>\n",
       "      <td>False</td>\n",
       "      <td>False</td>\n",
       "      <td>False</td>\n",
       "    </tr>\n",
       "    <tr>\n",
       "      <th>...</th>\n",
       "      <td>...</td>\n",
       "      <td>...</td>\n",
       "      <td>...</td>\n",
       "      <td>...</td>\n",
       "      <td>...</td>\n",
       "      <td>...</td>\n",
       "      <td>...</td>\n",
       "      <td>...</td>\n",
       "      <td>...</td>\n",
       "      <td>...</td>\n",
       "      <td>...</td>\n",
       "      <td>...</td>\n",
       "      <td>...</td>\n",
       "      <td>...</td>\n",
       "      <td>...</td>\n",
       "      <td>...</td>\n",
       "      <td>...</td>\n",
       "      <td>...</td>\n",
       "      <td>...</td>\n",
       "      <td>...</td>\n",
       "      <td>...</td>\n",
       "    </tr>\n",
       "    <tr>\n",
       "      <th>fffc94f6ce00a00581880bf54a75a037</th>\n",
       "      <td>False</td>\n",
       "      <td>False</td>\n",
       "      <td>False</td>\n",
       "      <td>False</td>\n",
       "      <td>False</td>\n",
       "      <td>False</td>\n",
       "      <td>False</td>\n",
       "      <td>False</td>\n",
       "      <td>False</td>\n",
       "      <td>False</td>\n",
       "      <td>...</td>\n",
       "      <td>False</td>\n",
       "      <td>False</td>\n",
       "      <td>False</td>\n",
       "      <td>False</td>\n",
       "      <td>False</td>\n",
       "      <td>False</td>\n",
       "      <td>False</td>\n",
       "      <td>False</td>\n",
       "      <td>False</td>\n",
       "      <td>False</td>\n",
       "    </tr>\n",
       "    <tr>\n",
       "      <th>fffcd46ef2263f404302a634eb57f7eb</th>\n",
       "      <td>False</td>\n",
       "      <td>False</td>\n",
       "      <td>False</td>\n",
       "      <td>False</td>\n",
       "      <td>False</td>\n",
       "      <td>False</td>\n",
       "      <td>False</td>\n",
       "      <td>False</td>\n",
       "      <td>False</td>\n",
       "      <td>False</td>\n",
       "      <td>...</td>\n",
       "      <td>False</td>\n",
       "      <td>False</td>\n",
       "      <td>False</td>\n",
       "      <td>False</td>\n",
       "      <td>False</td>\n",
       "      <td>False</td>\n",
       "      <td>False</td>\n",
       "      <td>False</td>\n",
       "      <td>False</td>\n",
       "      <td>False</td>\n",
       "    </tr>\n",
       "    <tr>\n",
       "      <th>fffce4705a9662cd70adb13d4a31832d</th>\n",
       "      <td>False</td>\n",
       "      <td>False</td>\n",
       "      <td>False</td>\n",
       "      <td>False</td>\n",
       "      <td>False</td>\n",
       "      <td>False</td>\n",
       "      <td>False</td>\n",
       "      <td>False</td>\n",
       "      <td>False</td>\n",
       "      <td>False</td>\n",
       "      <td>...</td>\n",
       "      <td>False</td>\n",
       "      <td>False</td>\n",
       "      <td>False</td>\n",
       "      <td>True</td>\n",
       "      <td>False</td>\n",
       "      <td>False</td>\n",
       "      <td>False</td>\n",
       "      <td>False</td>\n",
       "      <td>False</td>\n",
       "      <td>False</td>\n",
       "    </tr>\n",
       "    <tr>\n",
       "      <th>fffe18544ffabc95dfada21779c9644f</th>\n",
       "      <td>False</td>\n",
       "      <td>False</td>\n",
       "      <td>False</td>\n",
       "      <td>False</td>\n",
       "      <td>False</td>\n",
       "      <td>False</td>\n",
       "      <td>False</td>\n",
       "      <td>False</td>\n",
       "      <td>False</td>\n",
       "      <td>False</td>\n",
       "      <td>...</td>\n",
       "      <td>False</td>\n",
       "      <td>False</td>\n",
       "      <td>False</td>\n",
       "      <td>False</td>\n",
       "      <td>False</td>\n",
       "      <td>False</td>\n",
       "      <td>False</td>\n",
       "      <td>False</td>\n",
       "      <td>False</td>\n",
       "      <td>False</td>\n",
       "    </tr>\n",
       "    <tr>\n",
       "      <th>fffe41c64501cc87c801fd61db3f6244</th>\n",
       "      <td>False</td>\n",
       "      <td>False</td>\n",
       "      <td>False</td>\n",
       "      <td>False</td>\n",
       "      <td>False</td>\n",
       "      <td>False</td>\n",
       "      <td>False</td>\n",
       "      <td>True</td>\n",
       "      <td>False</td>\n",
       "      <td>False</td>\n",
       "      <td>...</td>\n",
       "      <td>False</td>\n",
       "      <td>False</td>\n",
       "      <td>False</td>\n",
       "      <td>False</td>\n",
       "      <td>False</td>\n",
       "      <td>False</td>\n",
       "      <td>False</td>\n",
       "      <td>False</td>\n",
       "      <td>False</td>\n",
       "      <td>False</td>\n",
       "    </tr>\n",
       "  </tbody>\n",
       "</table>\n",
       "<p>99440 rows × 72 columns</p>\n",
       "</div>"
      ],
      "text/plain": [
       "product_category_name             Agro_Industry_And_Commerce  \\\n",
       "order_id                                                       \n",
       "00010242fe8c5a6d1ba2dd792cb16214                       False   \n",
       "00018f77f2f0320c557190d7a144bdd3                       False   \n",
       "000229ec398224ef6ca0657da4fc703e                       False   \n",
       "00024acbcdf0a6daa1e931b038114c75                       False   \n",
       "00042b26cf59d7ce69dfabb4e55b4fd9                       False   \n",
       "...                                                      ...   \n",
       "fffc94f6ce00a00581880bf54a75a037                       False   \n",
       "fffcd46ef2263f404302a634eb57f7eb                       False   \n",
       "fffce4705a9662cd70adb13d4a31832d                       False   \n",
       "fffe18544ffabc95dfada21779c9644f                       False   \n",
       "fffe41c64501cc87c801fd61db3f6244                       False   \n",
       "\n",
       "product_category_name             Air_Conditioning    Art  \\\n",
       "order_id                                                    \n",
       "00010242fe8c5a6d1ba2dd792cb16214             False  False   \n",
       "00018f77f2f0320c557190d7a144bdd3             False  False   \n",
       "000229ec398224ef6ca0657da4fc703e             False  False   \n",
       "00024acbcdf0a6daa1e931b038114c75             False  False   \n",
       "00042b26cf59d7ce69dfabb4e55b4fd9             False  False   \n",
       "...                                            ...    ...   \n",
       "fffc94f6ce00a00581880bf54a75a037             False  False   \n",
       "fffcd46ef2263f404302a634eb57f7eb             False  False   \n",
       "fffce4705a9662cd70adb13d4a31832d             False  False   \n",
       "fffe18544ffabc95dfada21779c9644f             False  False   \n",
       "fffe41c64501cc87c801fd61db3f6244             False  False   \n",
       "\n",
       "product_category_name             Arts_And_Craftmanship  Audio   Auto   Baby  \\\n",
       "order_id                                                                       \n",
       "00010242fe8c5a6d1ba2dd792cb16214                  False  False  False  False   \n",
       "00018f77f2f0320c557190d7a144bdd3                  False  False  False  False   \n",
       "000229ec398224ef6ca0657da4fc703e                  False  False  False  False   \n",
       "00024acbcdf0a6daa1e931b038114c75                  False  False  False  False   \n",
       "00042b26cf59d7ce69dfabb4e55b4fd9                  False  False  False  False   \n",
       "...                                                 ...    ...    ...    ...   \n",
       "fffc94f6ce00a00581880bf54a75a037                  False  False  False  False   \n",
       "fffcd46ef2263f404302a634eb57f7eb                  False  False  False  False   \n",
       "fffce4705a9662cd70adb13d4a31832d                  False  False  False  False   \n",
       "fffe18544ffabc95dfada21779c9644f                  False  False  False  False   \n",
       "fffe41c64501cc87c801fd61db3f6244                  False  False  False  False   \n",
       "\n",
       "product_category_name             Bed_Bath_Table  Books_General_Interest  \\\n",
       "order_id                                                                   \n",
       "00010242fe8c5a6d1ba2dd792cb16214           False                   False   \n",
       "00018f77f2f0320c557190d7a144bdd3           False                   False   \n",
       "000229ec398224ef6ca0657da4fc703e           False                   False   \n",
       "00024acbcdf0a6daa1e931b038114c75           False                   False   \n",
       "00042b26cf59d7ce69dfabb4e55b4fd9           False                   False   \n",
       "...                                          ...                     ...   \n",
       "fffc94f6ce00a00581880bf54a75a037           False                   False   \n",
       "fffcd46ef2263f404302a634eb57f7eb           False                   False   \n",
       "fffce4705a9662cd70adb13d4a31832d           False                   False   \n",
       "fffe18544ffabc95dfada21779c9644f           False                   False   \n",
       "fffe41c64501cc87c801fd61db3f6244            True                   False   \n",
       "\n",
       "product_category_name             Books_Imported  ...  Signaling_And_Security  \\\n",
       "order_id                                          ...                           \n",
       "00010242fe8c5a6d1ba2dd792cb16214           False  ...                   False   \n",
       "00018f77f2f0320c557190d7a144bdd3           False  ...                   False   \n",
       "000229ec398224ef6ca0657da4fc703e           False  ...                   False   \n",
       "00024acbcdf0a6daa1e931b038114c75           False  ...                   False   \n",
       "00042b26cf59d7ce69dfabb4e55b4fd9           False  ...                   False   \n",
       "...                                          ...  ...                     ...   \n",
       "fffc94f6ce00a00581880bf54a75a037           False  ...                   False   \n",
       "fffcd46ef2263f404302a634eb57f7eb           False  ...                   False   \n",
       "fffce4705a9662cd70adb13d4a31832d           False  ...                   False   \n",
       "fffe18544ffabc95dfada21779c9644f           False  ...                   False   \n",
       "fffe41c64501cc87c801fd61db3f6244           False  ...                   False   \n",
       "\n",
       "product_category_name             Small_Appliances  \\\n",
       "order_id                                             \n",
       "00010242fe8c5a6d1ba2dd792cb16214             False   \n",
       "00018f77f2f0320c557190d7a144bdd3             False   \n",
       "000229ec398224ef6ca0657da4fc703e             False   \n",
       "00024acbcdf0a6daa1e931b038114c75             False   \n",
       "00042b26cf59d7ce69dfabb4e55b4fd9             False   \n",
       "...                                            ...   \n",
       "fffc94f6ce00a00581880bf54a75a037             False   \n",
       "fffcd46ef2263f404302a634eb57f7eb             False   \n",
       "fffce4705a9662cd70adb13d4a31832d             False   \n",
       "fffe18544ffabc95dfada21779c9644f             False   \n",
       "fffe41c64501cc87c801fd61db3f6244             False   \n",
       "\n",
       "product_category_name             Small_Appliances_Home_Oven_And_Coffee  \\\n",
       "order_id                                                                  \n",
       "00010242fe8c5a6d1ba2dd792cb16214                                  False   \n",
       "00018f77f2f0320c557190d7a144bdd3                                  False   \n",
       "000229ec398224ef6ca0657da4fc703e                                  False   \n",
       "00024acbcdf0a6daa1e931b038114c75                                  False   \n",
       "00042b26cf59d7ce69dfabb4e55b4fd9                                  False   \n",
       "...                                                                 ...   \n",
       "fffc94f6ce00a00581880bf54a75a037                                  False   \n",
       "fffcd46ef2263f404302a634eb57f7eb                                  False   \n",
       "fffce4705a9662cd70adb13d4a31832d                                  False   \n",
       "fffe18544ffabc95dfada21779c9644f                                  False   \n",
       "fffe41c64501cc87c801fd61db3f6244                                  False   \n",
       "\n",
       "product_category_name             Sports_Leisure  Stationery  \\\n",
       "order_id                                                       \n",
       "00010242fe8c5a6d1ba2dd792cb16214           False       False   \n",
       "00018f77f2f0320c557190d7a144bdd3           False       False   \n",
       "000229ec398224ef6ca0657da4fc703e           False       False   \n",
       "00024acbcdf0a6daa1e931b038114c75           False       False   \n",
       "00042b26cf59d7ce69dfabb4e55b4fd9           False       False   \n",
       "...                                          ...         ...   \n",
       "fffc94f6ce00a00581880bf54a75a037           False       False   \n",
       "fffcd46ef2263f404302a634eb57f7eb           False       False   \n",
       "fffce4705a9662cd70adb13d4a31832d            True       False   \n",
       "fffe18544ffabc95dfada21779c9644f           False       False   \n",
       "fffe41c64501cc87c801fd61db3f6244           False       False   \n",
       "\n",
       "product_category_name             Tablets_Printing_Image  Telephony   Toys  \\\n",
       "order_id                                                                     \n",
       "00010242fe8c5a6d1ba2dd792cb16214                   False      False  False   \n",
       "00018f77f2f0320c557190d7a144bdd3                   False      False  False   \n",
       "000229ec398224ef6ca0657da4fc703e                   False      False  False   \n",
       "00024acbcdf0a6daa1e931b038114c75                   False      False  False   \n",
       "00042b26cf59d7ce69dfabb4e55b4fd9                   False      False  False   \n",
       "...                                                  ...        ...    ...   \n",
       "fffc94f6ce00a00581880bf54a75a037                   False      False  False   \n",
       "fffcd46ef2263f404302a634eb57f7eb                   False      False  False   \n",
       "fffce4705a9662cd70adb13d4a31832d                   False      False  False   \n",
       "fffe18544ffabc95dfada21779c9644f                   False      False  False   \n",
       "fffe41c64501cc87c801fd61db3f6244                   False      False  False   \n",
       "\n",
       "product_category_name             Watches_Gifts  unknown  \n",
       "order_id                                                  \n",
       "00010242fe8c5a6d1ba2dd792cb16214          False    False  \n",
       "00018f77f2f0320c557190d7a144bdd3          False    False  \n",
       "000229ec398224ef6ca0657da4fc703e          False    False  \n",
       "00024acbcdf0a6daa1e931b038114c75          False    False  \n",
       "00042b26cf59d7ce69dfabb4e55b4fd9          False    False  \n",
       "...                                         ...      ...  \n",
       "fffc94f6ce00a00581880bf54a75a037          False    False  \n",
       "fffcd46ef2263f404302a634eb57f7eb          False    False  \n",
       "fffce4705a9662cd70adb13d4a31832d          False    False  \n",
       "fffe18544ffabc95dfada21779c9644f          False    False  \n",
       "fffe41c64501cc87c801fd61db3f6244          False    False  \n",
       "\n",
       "[99440 rows x 72 columns]"
      ]
     },
     "execution_count": 122,
     "metadata": {},
     "output_type": "execute_result"
    }
   ],
   "source": [
    "cs"
   ]
  },
  {
   "cell_type": "code",
   "execution_count": 123,
   "id": "713f3d29",
   "metadata": {},
   "outputs": [],
   "source": [
    "from mlxtend.frequent_patterns import fpmax"
   ]
  },
  {
   "cell_type": "code",
   "execution_count": 124,
   "id": "58841aa2",
   "metadata": {},
   "outputs": [
    {
     "data": {
      "text/plain": [
       "0                      (Health_Beauty, Bed_Bath_Table)\n",
       "1    (Health_Beauty, Sports_Leisure, Computers_Acce...\n",
       "2              (Bed_Bath_Table, Computers_Accessories)\n",
       "3                     (Furniture_Decor, Health_Beauty)\n",
       "4             (Furniture_Decor, Computers_Accessories)\n",
       "5                         (Housewares, Bed_Bath_Table)\n",
       "6                         (Sports_Leisure, Housewares)\n",
       "7                  (Housewares, Computers_Accessories)\n",
       "8                          (Health_Beauty, Housewares)\n",
       "9                      (Watches_Gifts, Sports_Leisure)\n",
       "Name: itemsets, dtype: object"
      ]
     },
     "execution_count": 124,
     "metadata": {},
     "output_type": "execute_result"
    }
   ],
   "source": [
    "fpmax(cs,min_support=0.00001,use_colnames=True).tail(10).itemsets.iloc[::-1].reset_index(drop=True)"
   ]
  },
  {
   "cell_type": "markdown",
   "id": "1d443634",
   "metadata": {},
   "source": [
    "## 4. Payment Behaviour"
   ]
  },
  {
   "cell_type": "markdown",
   "id": "484a2a9f",
   "metadata": {},
   "source": [
    "### a. How customers are paying?"
   ]
  },
  {
   "cell_type": "code",
   "execution_count": 125,
   "id": "77f473a1",
   "metadata": {},
   "outputs": [],
   "source": [
    "payment_behaviour=order_payments.merge(orders,on='order_id')"
   ]
  },
  {
   "cell_type": "code",
   "execution_count": 126,
   "id": "deb95831",
   "metadata": {},
   "outputs": [],
   "source": [
    "a4=payment_behaviour.groupby('payment_type').customer_id.count().reset_index()"
   ]
  },
  {
   "cell_type": "code",
   "execution_count": 127,
   "id": "b076cfa0",
   "metadata": {},
   "outputs": [
    {
     "data": {
      "image/png": "[encoded data removed]",
      "text/plain": [
       "<Figure size 432x288 with 1 Axes>"
      ]
     },
     "metadata": {},
     "output_type": "display_data"
    }
   ],
   "source": [
    "plt.pie(a4.customer_id,labels=a4.payment_type)\n",
    "plt.show()"
   ]
  },
  {
   "cell_type": "markdown",
   "id": "487ef1ee",
   "metadata": {},
   "source": [
    "## b. Which payment channels are used by most customers?"
   ]
  },
  {
   "cell_type": "code",
   "execution_count": 128,
   "id": "f33bc5c4",
   "metadata": {},
   "outputs": [],
   "source": [
    "# payment channels by revenue"
   ]
  },
  {
   "cell_type": "code",
   "execution_count": 129,
   "id": "a040fa1c",
   "metadata": {},
   "outputs": [
    {
     "data": {
      "text/plain": [
       "<AxesSubplot:xlabel='payment_type'>"
      ]
     },
     "execution_count": 129,
     "metadata": {},
     "output_type": "execute_result"
    },
    {
     "data": {
      "image/png": "[encoded data removed]",
      "text/plain": [
       "<Figure size 432x288 with 1 Axes>"
      ]
     },
     "metadata": {},
     "output_type": "display_data"
    }
   ],
   "source": [
    "payment_behaviour.groupby('payment_type').payment_value.sum().plot.bar()"
   ]
  },
  {
   "cell_type": "code",
   "execution_count": 130,
   "id": "7d8618be",
   "metadata": {},
   "outputs": [],
   "source": [
    "# payments channels by order_id"
   ]
  },
  {
   "cell_type": "code",
   "execution_count": 131,
   "id": "8684527c",
   "metadata": {},
   "outputs": [
    {
     "data": {
      "text/plain": [
       "<AxesSubplot:xlabel='payment_type'>"
      ]
     },
     "execution_count": 131,
     "metadata": {},
     "output_type": "execute_result"
    },
    {
     "data": {
      "image/png": "[encoded data removed]",
      "text/plain": [
       "<Figure size 432x288 with 1 Axes>"
      ]
     },
     "metadata": {},
     "output_type": "display_data"
    }
   ],
   "source": [
    "payment_behaviour.groupby('payment_type').order_id.count().plot.bar()"
   ]
  },
  {
   "cell_type": "markdown",
   "id": "164ba731",
   "metadata": {},
   "source": [
    "## 5. Customer satisfaction towards category & product"
   ]
  },
  {
   "cell_type": "markdown",
   "id": "fabd4c2a",
   "metadata": {},
   "source": [
    "###  a. Which categories (top 10) are maximum rated & minimum rated?"
   ]
  },
  {
   "cell_type": "code",
   "execution_count": 132,
   "id": "2bb6ed7e",
   "metadata": {},
   "outputs": [],
   "source": [
    "category_ratings=data.groupby('product_category_name').review_score.mean().reset_index().sort_values(by='review_score')"
   ]
  },
  {
   "cell_type": "code",
   "execution_count": 133,
   "id": "ca8c7c15",
   "metadata": {},
   "outputs": [
    {
     "data": {
      "text/html": [
       "<div>\n",
       "<style scoped>\n",
       "    .dataframe tbody tr th:only-of-type {\n",
       "        vertical-align: middle;\n",
       "    }\n",
       "\n",
       "    .dataframe tbody tr th {\n",
       "        vertical-align: top;\n",
       "    }\n",
       "\n",
       "    .dataframe thead th {\n",
       "        text-align: right;\n",
       "    }\n",
       "</style>\n",
       "<table border=\"1\" class=\"dataframe\">\n",
       "  <thead>\n",
       "    <tr style=\"text-align: right;\">\n",
       "      <th></th>\n",
       "      <th>product_category_name</th>\n",
       "      <th>review_score</th>\n",
       "    </tr>\n",
       "  </thead>\n",
       "  <tbody>\n",
       "    <tr>\n",
       "      <th>61</th>\n",
       "      <td>Security_And_Services</td>\n",
       "      <td>2.500000</td>\n",
       "    </tr>\n",
       "    <tr>\n",
       "      <th>71</th>\n",
       "      <td>unknown</td>\n",
       "      <td>3.136137</td>\n",
       "    </tr>\n",
       "    <tr>\n",
       "      <th>23</th>\n",
       "      <td>Diapers_And_Hygiene</td>\n",
       "      <td>3.256410</td>\n",
       "    </tr>\n",
       "    <tr>\n",
       "      <th>46</th>\n",
       "      <td>Home_Comfort_2</td>\n",
       "      <td>3.366667</td>\n",
       "    </tr>\n",
       "    <tr>\n",
       "      <th>57</th>\n",
       "      <td>Office_Furniture</td>\n",
       "      <td>3.480189</td>\n",
       "    </tr>\n",
       "    <tr>\n",
       "      <th>30</th>\n",
       "      <td>Fashion_Male_Clothing</td>\n",
       "      <td>3.621212</td>\n",
       "    </tr>\n",
       "    <tr>\n",
       "      <th>34</th>\n",
       "      <td>Fixed_Telephony</td>\n",
       "      <td>3.670455</td>\n",
       "    </tr>\n",
       "    <tr>\n",
       "      <th>58</th>\n",
       "      <td>Party_Supplies</td>\n",
       "      <td>3.767442</td>\n",
       "    </tr>\n",
       "    <tr>\n",
       "      <th>27</th>\n",
       "      <td>Fashio_Female_Clothing</td>\n",
       "      <td>3.781250</td>\n",
       "    </tr>\n",
       "    <tr>\n",
       "      <th>52</th>\n",
       "      <td>La_Cuisine</td>\n",
       "      <td>3.785714</td>\n",
       "    </tr>\n",
       "  </tbody>\n",
       "</table>\n",
       "</div>"
      ],
      "text/plain": [
       "     product_category_name  review_score\n",
       "61   Security_And_Services      2.500000\n",
       "71                 unknown      3.136137\n",
       "23     Diapers_And_Hygiene      3.256410\n",
       "46          Home_Comfort_2      3.366667\n",
       "57        Office_Furniture      3.480189\n",
       "30   Fashion_Male_Clothing      3.621212\n",
       "34         Fixed_Telephony      3.670455\n",
       "58          Party_Supplies      3.767442\n",
       "27  Fashio_Female_Clothing      3.781250\n",
       "52              La_Cuisine      3.785714"
      ]
     },
     "execution_count": 133,
     "metadata": {},
     "output_type": "execute_result"
    }
   ],
   "source": [
    "#  top 10 min rated\n",
    "category_ratings.head(10)"
   ]
  },
  {
   "cell_type": "code",
   "execution_count": 134,
   "id": "af581fe5",
   "metadata": {},
   "outputs": [
    {
     "data": {
      "text/html": [
       "<div>\n",
       "<style scoped>\n",
       "    .dataframe tbody tr th:only-of-type {\n",
       "        vertical-align: middle;\n",
       "    }\n",
       "\n",
       "    .dataframe tbody tr th {\n",
       "        vertical-align: top;\n",
       "    }\n",
       "\n",
       "    .dataframe thead th {\n",
       "        text-align: right;\n",
       "    }\n",
       "</style>\n",
       "<table border=\"1\" class=\"dataframe\">\n",
       "  <thead>\n",
       "    <tr style=\"text-align: right;\">\n",
       "      <th></th>\n",
       "      <th>product_category_name</th>\n",
       "      <th>review_score</th>\n",
       "    </tr>\n",
       "  </thead>\n",
       "  <tbody>\n",
       "    <tr>\n",
       "      <th>32</th>\n",
       "      <td>Fashion_Sport</td>\n",
       "      <td>4.233333</td>\n",
       "    </tr>\n",
       "    <tr>\n",
       "      <th>37</th>\n",
       "      <td>Food_Drink</td>\n",
       "      <td>4.300360</td>\n",
       "    </tr>\n",
       "    <tr>\n",
       "      <th>64</th>\n",
       "      <td>Small_Appliances_Home_Oven_And_Coffee</td>\n",
       "      <td>4.302632</td>\n",
       "    </tr>\n",
       "    <tr>\n",
       "      <th>53</th>\n",
       "      <td>Luggage_Accessories</td>\n",
       "      <td>4.309524</td>\n",
       "    </tr>\n",
       "    <tr>\n",
       "      <th>10</th>\n",
       "      <td>Books_Technical</td>\n",
       "      <td>4.333333</td>\n",
       "    </tr>\n",
       "    <tr>\n",
       "      <th>22</th>\n",
       "      <td>Costruction_Tools_Tools</td>\n",
       "      <td>4.359223</td>\n",
       "    </tr>\n",
       "    <tr>\n",
       "      <th>9</th>\n",
       "      <td>Books_Imported</td>\n",
       "      <td>4.400000</td>\n",
       "    </tr>\n",
       "    <tr>\n",
       "      <th>8</th>\n",
       "      <td>Books_General_Interest</td>\n",
       "      <td>4.439421</td>\n",
       "    </tr>\n",
       "    <tr>\n",
       "      <th>29</th>\n",
       "      <td>Fashion_Childrens_Clothes</td>\n",
       "      <td>4.500000</td>\n",
       "    </tr>\n",
       "    <tr>\n",
       "      <th>11</th>\n",
       "      <td>Cds_Dvds_Musicals</td>\n",
       "      <td>4.642857</td>\n",
       "    </tr>\n",
       "  </tbody>\n",
       "</table>\n",
       "</div>"
      ],
      "text/plain": [
       "                    product_category_name  review_score\n",
       "32                          Fashion_Sport      4.233333\n",
       "37                             Food_Drink      4.300360\n",
       "64  Small_Appliances_Home_Oven_And_Coffee      4.302632\n",
       "53                    Luggage_Accessories      4.309524\n",
       "10                        Books_Technical      4.333333\n",
       "22                Costruction_Tools_Tools      4.359223\n",
       "9                          Books_Imported      4.400000\n",
       "8                  Books_General_Interest      4.439421\n",
       "29              Fashion_Childrens_Clothes      4.500000\n",
       "11                      Cds_Dvds_Musicals      4.642857"
      ]
     },
     "execution_count": 134,
     "metadata": {},
     "output_type": "execute_result"
    }
   ],
   "source": [
    "#  top 10 max rated\n",
    "category_ratings.tail(10)"
   ]
  },
  {
   "cell_type": "markdown",
   "id": "a23590dc",
   "metadata": {},
   "source": [
    "### b. Which products (top10) are maximum rated & minimum rated?"
   ]
  },
  {
   "cell_type": "code",
   "execution_count": 135,
   "id": "837bc7d2",
   "metadata": {},
   "outputs": [],
   "source": [
    "product_ratings=data.groupby('product_id').review_score.mean().reset_index().sort_values(by='review_score')"
   ]
  },
  {
   "cell_type": "code",
   "execution_count": 136,
   "id": "ff6ee925",
   "metadata": {},
   "outputs": [
    {
     "data": {
      "text/html": [
       "<div>\n",
       "<style scoped>\n",
       "    .dataframe tbody tr th:only-of-type {\n",
       "        vertical-align: middle;\n",
       "    }\n",
       "\n",
       "    .dataframe tbody tr th {\n",
       "        vertical-align: top;\n",
       "    }\n",
       "\n",
       "    .dataframe thead th {\n",
       "        text-align: right;\n",
       "    }\n",
       "</style>\n",
       "<table border=\"1\" class=\"dataframe\">\n",
       "  <thead>\n",
       "    <tr style=\"text-align: right;\">\n",
       "      <th></th>\n",
       "      <th>product_id</th>\n",
       "      <th>review_score</th>\n",
       "    </tr>\n",
       "  </thead>\n",
       "  <tbody>\n",
       "    <tr>\n",
       "      <th>11572</th>\n",
       "      <td>592cc6634d2c783d297effc0b828bc37</td>\n",
       "      <td>1.0</td>\n",
       "    </tr>\n",
       "    <tr>\n",
       "      <th>9385</th>\n",
       "      <td>482c25dc8512547962854dfff5ac057b</td>\n",
       "      <td>1.0</td>\n",
       "    </tr>\n",
       "    <tr>\n",
       "      <th>28997</th>\n",
       "      <td>e10c5041c0752194622a7a7016d8c9b5</td>\n",
       "      <td>1.0</td>\n",
       "    </tr>\n",
       "    <tr>\n",
       "      <th>9364</th>\n",
       "      <td>47fafa6908e75ae62b8a36a9eb3b9234</td>\n",
       "      <td>1.0</td>\n",
       "    </tr>\n",
       "    <tr>\n",
       "      <th>9346</th>\n",
       "      <td>47d85e3e35a3e29f93fdc12b295d520c</td>\n",
       "      <td>1.0</td>\n",
       "    </tr>\n",
       "    <tr>\n",
       "      <th>9344</th>\n",
       "      <td>47d6209a0b169cc800b0a45a9127d2f2</td>\n",
       "      <td>1.0</td>\n",
       "    </tr>\n",
       "    <tr>\n",
       "      <th>9337</th>\n",
       "      <td>47cad419b0ad5dc9d2305bf795c3c16f</td>\n",
       "      <td>1.0</td>\n",
       "    </tr>\n",
       "    <tr>\n",
       "      <th>9325</th>\n",
       "      <td>47b49b876c60eafde72f0e1c602f386d</td>\n",
       "      <td>1.0</td>\n",
       "    </tr>\n",
       "    <tr>\n",
       "      <th>9324</th>\n",
       "      <td>47b0f8596ee6dafbb4438cac16fa6275</td>\n",
       "      <td>1.0</td>\n",
       "    </tr>\n",
       "    <tr>\n",
       "      <th>9321</th>\n",
       "      <td>47ac4dcdb04867daeaad647d224389e4</td>\n",
       "      <td>1.0</td>\n",
       "    </tr>\n",
       "  </tbody>\n",
       "</table>\n",
       "</div>"
      ],
      "text/plain": [
       "                             product_id  review_score\n",
       "11572  592cc6634d2c783d297effc0b828bc37           1.0\n",
       "9385   482c25dc8512547962854dfff5ac057b           1.0\n",
       "28997  e10c5041c0752194622a7a7016d8c9b5           1.0\n",
       "9364   47fafa6908e75ae62b8a36a9eb3b9234           1.0\n",
       "9346   47d85e3e35a3e29f93fdc12b295d520c           1.0\n",
       "9344   47d6209a0b169cc800b0a45a9127d2f2           1.0\n",
       "9337   47cad419b0ad5dc9d2305bf795c3c16f           1.0\n",
       "9325   47b49b876c60eafde72f0e1c602f386d           1.0\n",
       "9324   47b0f8596ee6dafbb4438cac16fa6275           1.0\n",
       "9321   47ac4dcdb04867daeaad647d224389e4           1.0"
      ]
     },
     "execution_count": 136,
     "metadata": {},
     "output_type": "execute_result"
    }
   ],
   "source": [
    "#  top 10 min rated\n",
    "product_ratings.head(10)"
   ]
  },
  {
   "cell_type": "code",
   "execution_count": 137,
   "id": "268fde89",
   "metadata": {},
   "outputs": [
    {
     "data": {
      "text/html": [
       "<div>\n",
       "<style scoped>\n",
       "    .dataframe tbody tr th:only-of-type {\n",
       "        vertical-align: middle;\n",
       "    }\n",
       "\n",
       "    .dataframe tbody tr th {\n",
       "        vertical-align: top;\n",
       "    }\n",
       "\n",
       "    .dataframe thead th {\n",
       "        text-align: right;\n",
       "    }\n",
       "</style>\n",
       "<table border=\"1\" class=\"dataframe\">\n",
       "  <thead>\n",
       "    <tr style=\"text-align: right;\">\n",
       "      <th></th>\n",
       "      <th>product_id</th>\n",
       "      <th>review_score</th>\n",
       "    </tr>\n",
       "  </thead>\n",
       "  <tbody>\n",
       "    <tr>\n",
       "      <th>15307</th>\n",
       "      <td>760be8243b7e45dab18ef46ace561ff9</td>\n",
       "      <td>5.0</td>\n",
       "    </tr>\n",
       "    <tr>\n",
       "      <th>15303</th>\n",
       "      <td>76052d3aafb407055d02120f56cc8a26</td>\n",
       "      <td>5.0</td>\n",
       "    </tr>\n",
       "    <tr>\n",
       "      <th>15302</th>\n",
       "      <td>76047a9f85e0601a31579a9a9e88a0e8</td>\n",
       "      <td>5.0</td>\n",
       "    </tr>\n",
       "    <tr>\n",
       "      <th>15301</th>\n",
       "      <td>7600ad0c8b6aec897862eb7944ae0856</td>\n",
       "      <td>5.0</td>\n",
       "    </tr>\n",
       "    <tr>\n",
       "      <th>15300</th>\n",
       "      <td>75fd4b482095ed05dd23030260e65300</td>\n",
       "      <td>5.0</td>\n",
       "    </tr>\n",
       "    <tr>\n",
       "      <th>15299</th>\n",
       "      <td>75fc57fb06b1d35ea433e16ecbf5a6bb</td>\n",
       "      <td>5.0</td>\n",
       "    </tr>\n",
       "    <tr>\n",
       "      <th>15298</th>\n",
       "      <td>75f95431890ea981914bdb4772341221</td>\n",
       "      <td>5.0</td>\n",
       "    </tr>\n",
       "    <tr>\n",
       "      <th>15296</th>\n",
       "      <td>75f54c6aa3a4ccb9ab44fae693c21418</td>\n",
       "      <td>5.0</td>\n",
       "    </tr>\n",
       "    <tr>\n",
       "      <th>15305</th>\n",
       "      <td>76061aaf8a1e4e93cdd26f7bef9ce247</td>\n",
       "      <td>5.0</td>\n",
       "    </tr>\n",
       "    <tr>\n",
       "      <th>16475</th>\n",
       "      <td>7f6f8bdeee8ab42b5b4873b754f22a15</td>\n",
       "      <td>5.0</td>\n",
       "    </tr>\n",
       "  </tbody>\n",
       "</table>\n",
       "</div>"
      ],
      "text/plain": [
       "                             product_id  review_score\n",
       "15307  760be8243b7e45dab18ef46ace561ff9           5.0\n",
       "15303  76052d3aafb407055d02120f56cc8a26           5.0\n",
       "15302  76047a9f85e0601a31579a9a9e88a0e8           5.0\n",
       "15301  7600ad0c8b6aec897862eb7944ae0856           5.0\n",
       "15300  75fd4b482095ed05dd23030260e65300           5.0\n",
       "15299  75fc57fb06b1d35ea433e16ecbf5a6bb           5.0\n",
       "15298  75f95431890ea981914bdb4772341221           5.0\n",
       "15296  75f54c6aa3a4ccb9ab44fae693c21418           5.0\n",
       "15305  76061aaf8a1e4e93cdd26f7bef9ce247           5.0\n",
       "16475  7f6f8bdeee8ab42b5b4873b754f22a15           5.0"
      ]
     },
     "execution_count": 137,
     "metadata": {},
     "output_type": "execute_result"
    }
   ],
   "source": [
    "#  top 10 max rated\n",
    "product_ratings.tail(10)"
   ]
  },
  {
   "cell_type": "markdown",
   "id": "3f954b91",
   "metadata": {},
   "source": [
    "### c. Average rating by location, seller, product, category, month"
   ]
  },
  {
   "cell_type": "code",
   "execution_count": 138,
   "id": "18460934",
   "metadata": {},
   "outputs": [],
   "source": [
    "# average rating by location"
   ]
  },
  {
   "cell_type": "code",
   "execution_count": 139,
   "id": "fc71e861",
   "metadata": {},
   "outputs": [],
   "source": [
    "# data at customer level\n",
    "c1=data.groupby(['order_id','customer_id']).last().reset_index()"
   ]
  },
  {
   "cell_type": "code",
   "execution_count": 140,
   "id": "b7e10360",
   "metadata": {},
   "outputs": [
    {
     "data": {
      "text/html": [
       "<div>\n",
       "<style scoped>\n",
       "    .dataframe tbody tr th:only-of-type {\n",
       "        vertical-align: middle;\n",
       "    }\n",
       "\n",
       "    .dataframe tbody tr th {\n",
       "        vertical-align: top;\n",
       "    }\n",
       "\n",
       "    .dataframe thead th {\n",
       "        text-align: right;\n",
       "    }\n",
       "</style>\n",
       "<table border=\"1\" class=\"dataframe\">\n",
       "  <thead>\n",
       "    <tr style=\"text-align: right;\">\n",
       "      <th></th>\n",
       "      <th>customer_state</th>\n",
       "      <th>review_score</th>\n",
       "    </tr>\n",
       "  </thead>\n",
       "  <tbody>\n",
       "    <tr>\n",
       "      <th>0</th>\n",
       "      <td>Andhra Pradesh</td>\n",
       "      <td>4.052502</td>\n",
       "    </tr>\n",
       "    <tr>\n",
       "      <th>1</th>\n",
       "      <td>Arunachal Pradesh</td>\n",
       "      <td>4.112601</td>\n",
       "    </tr>\n",
       "    <tr>\n",
       "      <th>2</th>\n",
       "      <td>Chhattisgarh</td>\n",
       "      <td>4.088828</td>\n",
       "    </tr>\n",
       "    <tr>\n",
       "      <th>3</th>\n",
       "      <td>Delhi</td>\n",
       "      <td>4.061074</td>\n",
       "    </tr>\n",
       "    <tr>\n",
       "      <th>4</th>\n",
       "      <td>Goa</td>\n",
       "      <td>4.800000</td>\n",
       "    </tr>\n",
       "    <tr>\n",
       "      <th>5</th>\n",
       "      <td>Gujarat</td>\n",
       "      <td>4.084371</td>\n",
       "    </tr>\n",
       "    <tr>\n",
       "      <th>6</th>\n",
       "      <td>Haryana</td>\n",
       "      <td>4.145550</td>\n",
       "    </tr>\n",
       "    <tr>\n",
       "      <th>7</th>\n",
       "      <td>Himachal Pradesh</td>\n",
       "      <td>4.023553</td>\n",
       "    </tr>\n",
       "    <tr>\n",
       "      <th>8</th>\n",
       "      <td>Jammu &amp; Kashmir</td>\n",
       "      <td>4.084906</td>\n",
       "    </tr>\n",
       "    <tr>\n",
       "      <th>9</th>\n",
       "      <td>Karnataka</td>\n",
       "      <td>4.073849</td>\n",
       "    </tr>\n",
       "    <tr>\n",
       "      <th>10</th>\n",
       "      <td>Kerala</td>\n",
       "      <td>4.141737</td>\n",
       "    </tr>\n",
       "    <tr>\n",
       "      <th>11</th>\n",
       "      <td>Madhya Pradesh</td>\n",
       "      <td>4.085699</td>\n",
       "    </tr>\n",
       "    <tr>\n",
       "      <th>12</th>\n",
       "      <td>Maharashtra</td>\n",
       "      <td>4.127681</td>\n",
       "    </tr>\n",
       "    <tr>\n",
       "      <th>13</th>\n",
       "      <td>Orissa</td>\n",
       "      <td>4.140800</td>\n",
       "    </tr>\n",
       "    <tr>\n",
       "      <th>14</th>\n",
       "      <td>Punjab</td>\n",
       "      <td>4.200295</td>\n",
       "    </tr>\n",
       "    <tr>\n",
       "      <th>15</th>\n",
       "      <td>Rajasthan</td>\n",
       "      <td>4.189356</td>\n",
       "    </tr>\n",
       "    <tr>\n",
       "      <th>16</th>\n",
       "      <td>Tamil Nadu</td>\n",
       "      <td>4.163525</td>\n",
       "    </tr>\n",
       "    <tr>\n",
       "      <th>17</th>\n",
       "      <td>Uttar Pradesh</td>\n",
       "      <td>4.158761</td>\n",
       "    </tr>\n",
       "    <tr>\n",
       "      <th>18</th>\n",
       "      <td>Uttaranchal</td>\n",
       "      <td>3.917526</td>\n",
       "    </tr>\n",
       "    <tr>\n",
       "      <th>19</th>\n",
       "      <td>West Bengal</td>\n",
       "      <td>4.046070</td>\n",
       "    </tr>\n",
       "  </tbody>\n",
       "</table>\n",
       "</div>"
      ],
      "text/plain": [
       "       customer_state  review_score\n",
       "0      Andhra Pradesh      4.052502\n",
       "1   Arunachal Pradesh      4.112601\n",
       "2        Chhattisgarh      4.088828\n",
       "3               Delhi      4.061074\n",
       "4                 Goa      4.800000\n",
       "5             Gujarat      4.084371\n",
       "6             Haryana      4.145550\n",
       "7    Himachal Pradesh      4.023553\n",
       "8     Jammu & Kashmir      4.084906\n",
       "9           Karnataka      4.073849\n",
       "10             Kerala      4.141737\n",
       "11     Madhya Pradesh      4.085699\n",
       "12        Maharashtra      4.127681\n",
       "13             Orissa      4.140800\n",
       "14             Punjab      4.200295\n",
       "15          Rajasthan      4.189356\n",
       "16         Tamil Nadu      4.163525\n",
       "17      Uttar Pradesh      4.158761\n",
       "18        Uttaranchal      3.917526\n",
       "19        West Bengal      4.046070"
      ]
     },
     "execution_count": 140,
     "metadata": {},
     "output_type": "execute_result"
    }
   ],
   "source": [
    "c1.groupby('customer_state').review_score.mean().reset_index()"
   ]
  },
  {
   "cell_type": "code",
   "execution_count": 141,
   "id": "de5c8890",
   "metadata": {},
   "outputs": [],
   "source": [
    "# average rating by seller"
   ]
  },
  {
   "cell_type": "code",
   "execution_count": 142,
   "id": "fd32616c",
   "metadata": {},
   "outputs": [],
   "source": [
    "# getting data at product and seller level:\n",
    "c2=data.groupby(['order_id','product_id','seller_id']).last().reset_index()"
   ]
  },
  {
   "cell_type": "code",
   "execution_count": 143,
   "id": "70489a2c",
   "metadata": {},
   "outputs": [
    {
     "data": {
      "text/html": [
       "<div>\n",
       "<style scoped>\n",
       "    .dataframe tbody tr th:only-of-type {\n",
       "        vertical-align: middle;\n",
       "    }\n",
       "\n",
       "    .dataframe tbody tr th {\n",
       "        vertical-align: top;\n",
       "    }\n",
       "\n",
       "    .dataframe thead th {\n",
       "        text-align: right;\n",
       "    }\n",
       "</style>\n",
       "<table border=\"1\" class=\"dataframe\">\n",
       "  <thead>\n",
       "    <tr style=\"text-align: right;\">\n",
       "      <th></th>\n",
       "      <th>seller_id</th>\n",
       "      <th>review_score</th>\n",
       "    </tr>\n",
       "  </thead>\n",
       "  <tbody>\n",
       "    <tr>\n",
       "      <th>0</th>\n",
       "      <td>0015a82c2db000af6aaaf3ae2ecb0532</td>\n",
       "      <td>3.666667</td>\n",
       "    </tr>\n",
       "    <tr>\n",
       "      <th>1</th>\n",
       "      <td>001cca7ae9ae17fb1caed9dfb1094831</td>\n",
       "      <td>3.935323</td>\n",
       "    </tr>\n",
       "    <tr>\n",
       "      <th>2</th>\n",
       "      <td>001e6ad469a905060d959994f1b41e4f</td>\n",
       "      <td>1.000000</td>\n",
       "    </tr>\n",
       "    <tr>\n",
       "      <th>3</th>\n",
       "      <td>002100f778ceb8431b7a1020ff7ab48f</td>\n",
       "      <td>3.981818</td>\n",
       "    </tr>\n",
       "    <tr>\n",
       "      <th>4</th>\n",
       "      <td>003554e2dce176b5555353e4f3555ac8</td>\n",
       "      <td>5.000000</td>\n",
       "    </tr>\n",
       "    <tr>\n",
       "      <th>...</th>\n",
       "      <td>...</td>\n",
       "      <td>...</td>\n",
       "    </tr>\n",
       "    <tr>\n",
       "      <th>3091</th>\n",
       "      <td>ffdd9f82b9a447f6f8d4b91554cc7dd3</td>\n",
       "      <td>4.333333</td>\n",
       "    </tr>\n",
       "    <tr>\n",
       "      <th>3092</th>\n",
       "      <td>ffeee66ac5d5a62fe688b9d26f83f534</td>\n",
       "      <td>4.214286</td>\n",
       "    </tr>\n",
       "    <tr>\n",
       "      <th>3093</th>\n",
       "      <td>fffd5413c0700ac820c7069d66d98c89</td>\n",
       "      <td>3.866667</td>\n",
       "    </tr>\n",
       "    <tr>\n",
       "      <th>3094</th>\n",
       "      <td>ffff564a4f9085cd26170f4732393726</td>\n",
       "      <td>2.100000</td>\n",
       "    </tr>\n",
       "    <tr>\n",
       "      <th>3095</th>\n",
       "      <td>unknown</td>\n",
       "      <td>1.715484</td>\n",
       "    </tr>\n",
       "  </tbody>\n",
       "</table>\n",
       "<p>3096 rows × 2 columns</p>\n",
       "</div>"
      ],
      "text/plain": [
       "                             seller_id  review_score\n",
       "0     0015a82c2db000af6aaaf3ae2ecb0532      3.666667\n",
       "1     001cca7ae9ae17fb1caed9dfb1094831      3.935323\n",
       "2     001e6ad469a905060d959994f1b41e4f      1.000000\n",
       "3     002100f778ceb8431b7a1020ff7ab48f      3.981818\n",
       "4     003554e2dce176b5555353e4f3555ac8      5.000000\n",
       "...                                ...           ...\n",
       "3091  ffdd9f82b9a447f6f8d4b91554cc7dd3      4.333333\n",
       "3092  ffeee66ac5d5a62fe688b9d26f83f534      4.214286\n",
       "3093  fffd5413c0700ac820c7069d66d98c89      3.866667\n",
       "3094  ffff564a4f9085cd26170f4732393726      2.100000\n",
       "3095                           unknown      1.715484\n",
       "\n",
       "[3096 rows x 2 columns]"
      ]
     },
     "execution_count": 143,
     "metadata": {},
     "output_type": "execute_result"
    }
   ],
   "source": [
    "c2.groupby('seller_id').review_score.mean().reset_index()"
   ]
  },
  {
   "cell_type": "code",
   "execution_count": 144,
   "id": "89ae3106",
   "metadata": {},
   "outputs": [],
   "source": [
    "# average rating by product"
   ]
  },
  {
   "cell_type": "code",
   "execution_count": 145,
   "id": "13eec71e",
   "metadata": {},
   "outputs": [],
   "source": [
    "# getting data at product  level:\n",
    "c3=data.groupby(['order_id','product_id']).last().reset_index()"
   ]
  },
  {
   "cell_type": "code",
   "execution_count": 146,
   "id": "3015f7e9",
   "metadata": {},
   "outputs": [
    {
     "data": {
      "text/html": [
       "<div>\n",
       "<style scoped>\n",
       "    .dataframe tbody tr th:only-of-type {\n",
       "        vertical-align: middle;\n",
       "    }\n",
       "\n",
       "    .dataframe tbody tr th {\n",
       "        vertical-align: top;\n",
       "    }\n",
       "\n",
       "    .dataframe thead th {\n",
       "        text-align: right;\n",
       "    }\n",
       "</style>\n",
       "<table border=\"1\" class=\"dataframe\">\n",
       "  <thead>\n",
       "    <tr style=\"text-align: right;\">\n",
       "      <th></th>\n",
       "      <th>product_id</th>\n",
       "      <th>review_score</th>\n",
       "    </tr>\n",
       "  </thead>\n",
       "  <tbody>\n",
       "    <tr>\n",
       "      <th>0</th>\n",
       "      <td>00066f42aeeb9f3007548bb9d3f33c38</td>\n",
       "      <td>5.000000</td>\n",
       "    </tr>\n",
       "    <tr>\n",
       "      <th>1</th>\n",
       "      <td>00088930e925c41fd95ebfe695fd2655</td>\n",
       "      <td>4.000000</td>\n",
       "    </tr>\n",
       "    <tr>\n",
       "      <th>2</th>\n",
       "      <td>0009406fd7479715e4bef61dd91f2462</td>\n",
       "      <td>1.000000</td>\n",
       "    </tr>\n",
       "    <tr>\n",
       "      <th>3</th>\n",
       "      <td>000b8f95fcb9e0096488278317764d19</td>\n",
       "      <td>5.000000</td>\n",
       "    </tr>\n",
       "    <tr>\n",
       "      <th>4</th>\n",
       "      <td>000d9be29b5207b54e86aa1b1ac54872</td>\n",
       "      <td>5.000000</td>\n",
       "    </tr>\n",
       "    <tr>\n",
       "      <th>...</th>\n",
       "      <td>...</td>\n",
       "      <td>...</td>\n",
       "    </tr>\n",
       "    <tr>\n",
       "      <th>32947</th>\n",
       "      <td>fff81cc3158d2725c0655ab9ba0f712c</td>\n",
       "      <td>4.000000</td>\n",
       "    </tr>\n",
       "    <tr>\n",
       "      <th>32948</th>\n",
       "      <td>fff9553ac224cec9d15d49f5a263411f</td>\n",
       "      <td>5.000000</td>\n",
       "    </tr>\n",
       "    <tr>\n",
       "      <th>32949</th>\n",
       "      <td>fffdb2d0ec8d6a61f0a0a0db3f25b441</td>\n",
       "      <td>5.000000</td>\n",
       "    </tr>\n",
       "    <tr>\n",
       "      <th>32950</th>\n",
       "      <td>fffe9eeff12fcbd74a2f2b007dde0c58</td>\n",
       "      <td>4.000000</td>\n",
       "    </tr>\n",
       "    <tr>\n",
       "      <th>32951</th>\n",
       "      <td>unknown</td>\n",
       "      <td>1.715484</td>\n",
       "    </tr>\n",
       "  </tbody>\n",
       "</table>\n",
       "<p>32952 rows × 2 columns</p>\n",
       "</div>"
      ],
      "text/plain": [
       "                             product_id  review_score\n",
       "0      00066f42aeeb9f3007548bb9d3f33c38      5.000000\n",
       "1      00088930e925c41fd95ebfe695fd2655      4.000000\n",
       "2      0009406fd7479715e4bef61dd91f2462      1.000000\n",
       "3      000b8f95fcb9e0096488278317764d19      5.000000\n",
       "4      000d9be29b5207b54e86aa1b1ac54872      5.000000\n",
       "...                                 ...           ...\n",
       "32947  fff81cc3158d2725c0655ab9ba0f712c      4.000000\n",
       "32948  fff9553ac224cec9d15d49f5a263411f      5.000000\n",
       "32949  fffdb2d0ec8d6a61f0a0a0db3f25b441      5.000000\n",
       "32950  fffe9eeff12fcbd74a2f2b007dde0c58      4.000000\n",
       "32951                           unknown      1.715484\n",
       "\n",
       "[32952 rows x 2 columns]"
      ]
     },
     "execution_count": 146,
     "metadata": {},
     "output_type": "execute_result"
    }
   ],
   "source": [
    "c3.groupby('product_id').review_score.mean().reset_index()"
   ]
  },
  {
   "cell_type": "code",
   "execution_count": 147,
   "id": "f24b5e4d",
   "metadata": {},
   "outputs": [],
   "source": [
    "# average rating by category"
   ]
  },
  {
   "cell_type": "code",
   "execution_count": 148,
   "id": "ebc472e6",
   "metadata": {},
   "outputs": [],
   "source": [
    "# getting data at product  level:\n",
    "c4=data.groupby(['order_id','product_id']).last().reset_index()"
   ]
  },
  {
   "cell_type": "code",
   "execution_count": 149,
   "id": "4032c25d",
   "metadata": {},
   "outputs": [
    {
     "data": {
      "text/html": [
       "<div>\n",
       "<style scoped>\n",
       "    .dataframe tbody tr th:only-of-type {\n",
       "        vertical-align: middle;\n",
       "    }\n",
       "\n",
       "    .dataframe tbody tr th {\n",
       "        vertical-align: top;\n",
       "    }\n",
       "\n",
       "    .dataframe thead th {\n",
       "        text-align: right;\n",
       "    }\n",
       "</style>\n",
       "<table border=\"1\" class=\"dataframe\">\n",
       "  <thead>\n",
       "    <tr style=\"text-align: right;\">\n",
       "      <th></th>\n",
       "      <th>product_category_name</th>\n",
       "      <th>review_score</th>\n",
       "    </tr>\n",
       "  </thead>\n",
       "  <tbody>\n",
       "    <tr>\n",
       "      <th>0</th>\n",
       "      <td>Agro_Industry_And_Commerce</td>\n",
       "      <td>4.027322</td>\n",
       "    </tr>\n",
       "    <tr>\n",
       "      <th>1</th>\n",
       "      <td>Air_Conditioning</td>\n",
       "      <td>3.984252</td>\n",
       "    </tr>\n",
       "    <tr>\n",
       "      <th>2</th>\n",
       "      <td>Art</td>\n",
       "      <td>4.004950</td>\n",
       "    </tr>\n",
       "    <tr>\n",
       "      <th>3</th>\n",
       "      <td>Arts_And_Craftmanship</td>\n",
       "      <td>4.125000</td>\n",
       "    </tr>\n",
       "    <tr>\n",
       "      <th>4</th>\n",
       "      <td>Audio</td>\n",
       "      <td>3.818571</td>\n",
       "    </tr>\n",
       "    <tr>\n",
       "      <th>...</th>\n",
       "      <td>...</td>\n",
       "      <td>...</td>\n",
       "    </tr>\n",
       "    <tr>\n",
       "      <th>67</th>\n",
       "      <td>Tablets_Printing_Image</td>\n",
       "      <td>4.075949</td>\n",
       "    </tr>\n",
       "    <tr>\n",
       "      <th>68</th>\n",
       "      <td>Telephony</td>\n",
       "      <td>3.971075</td>\n",
       "    </tr>\n",
       "    <tr>\n",
       "      <th>69</th>\n",
       "      <td>Toys</td>\n",
       "      <td>4.160719</td>\n",
       "    </tr>\n",
       "    <tr>\n",
       "      <th>70</th>\n",
       "      <td>Watches_Gifts</td>\n",
       "      <td>4.028453</td>\n",
       "    </tr>\n",
       "    <tr>\n",
       "      <th>71</th>\n",
       "      <td>unknown</td>\n",
       "      <td>3.136464</td>\n",
       "    </tr>\n",
       "  </tbody>\n",
       "</table>\n",
       "<p>72 rows × 2 columns</p>\n",
       "</div>"
      ],
      "text/plain": [
       "         product_category_name  review_score\n",
       "0   Agro_Industry_And_Commerce      4.027322\n",
       "1             Air_Conditioning      3.984252\n",
       "2                          Art      4.004950\n",
       "3        Arts_And_Craftmanship      4.125000\n",
       "4                        Audio      3.818571\n",
       "..                         ...           ...\n",
       "67      Tablets_Printing_Image      4.075949\n",
       "68                   Telephony      3.971075\n",
       "69                        Toys      4.160719\n",
       "70               Watches_Gifts      4.028453\n",
       "71                     unknown      3.136464\n",
       "\n",
       "[72 rows x 2 columns]"
      ]
     },
     "execution_count": 149,
     "metadata": {},
     "output_type": "execute_result"
    }
   ],
   "source": [
    "c4.groupby('product_category_name').review_score.mean().reset_index()"
   ]
  },
  {
   "cell_type": "code",
   "execution_count": 150,
   "id": "e3f123fb",
   "metadata": {},
   "outputs": [],
   "source": [
    "# average rating by month"
   ]
  },
  {
   "cell_type": "code",
   "execution_count": 151,
   "id": "dc1cad10",
   "metadata": {},
   "outputs": [],
   "source": [
    "# getting data at product  level:\n",
    "c5=data.groupby(['order_id','product_id']).last().reset_index()"
   ]
  },
  {
   "cell_type": "code",
   "execution_count": 152,
   "id": "2d9fbf92",
   "metadata": {},
   "outputs": [
    {
     "data": {
      "text/html": [
       "<div>\n",
       "<style scoped>\n",
       "    .dataframe tbody tr th:only-of-type {\n",
       "        vertical-align: middle;\n",
       "    }\n",
       "\n",
       "    .dataframe tbody tr th {\n",
       "        vertical-align: top;\n",
       "    }\n",
       "\n",
       "    .dataframe thead th {\n",
       "        text-align: right;\n",
       "    }\n",
       "</style>\n",
       "<table border=\"1\" class=\"dataframe\">\n",
       "  <thead>\n",
       "    <tr style=\"text-align: right;\">\n",
       "      <th></th>\n",
       "      <th>month_year</th>\n",
       "      <th>review_score</th>\n",
       "    </tr>\n",
       "  </thead>\n",
       "  <tbody>\n",
       "    <tr>\n",
       "      <th>0</th>\n",
       "      <td>2016-09</td>\n",
       "      <td>1.000000</td>\n",
       "    </tr>\n",
       "    <tr>\n",
       "      <th>1</th>\n",
       "      <td>2016-10</td>\n",
       "      <td>3.482507</td>\n",
       "    </tr>\n",
       "    <tr>\n",
       "      <th>2</th>\n",
       "      <td>2016-12</td>\n",
       "      <td>5.000000</td>\n",
       "    </tr>\n",
       "    <tr>\n",
       "      <th>3</th>\n",
       "      <td>2017-01</td>\n",
       "      <td>4.038922</td>\n",
       "    </tr>\n",
       "    <tr>\n",
       "      <th>4</th>\n",
       "      <td>2017-02</td>\n",
       "      <td>3.992391</td>\n",
       "    </tr>\n",
       "    <tr>\n",
       "      <th>5</th>\n",
       "      <td>2017-03</td>\n",
       "      <td>4.048882</td>\n",
       "    </tr>\n",
       "    <tr>\n",
       "      <th>6</th>\n",
       "      <td>2017-04</td>\n",
       "      <td>4.025413</td>\n",
       "    </tr>\n",
       "    <tr>\n",
       "      <th>7</th>\n",
       "      <td>2017-05</td>\n",
       "      <td>4.116055</td>\n",
       "    </tr>\n",
       "    <tr>\n",
       "      <th>8</th>\n",
       "      <td>2017-06</td>\n",
       "      <td>4.108249</td>\n",
       "    </tr>\n",
       "    <tr>\n",
       "      <th>9</th>\n",
       "      <td>2017-07</td>\n",
       "      <td>4.131075</td>\n",
       "    </tr>\n",
       "    <tr>\n",
       "      <th>10</th>\n",
       "      <td>2017-08</td>\n",
       "      <td>4.211906</td>\n",
       "    </tr>\n",
       "    <tr>\n",
       "      <th>11</th>\n",
       "      <td>2017-09</td>\n",
       "      <td>4.145354</td>\n",
       "    </tr>\n",
       "    <tr>\n",
       "      <th>12</th>\n",
       "      <td>2017-10</td>\n",
       "      <td>4.059566</td>\n",
       "    </tr>\n",
       "    <tr>\n",
       "      <th>13</th>\n",
       "      <td>2017-11</td>\n",
       "      <td>3.858857</td>\n",
       "    </tr>\n",
       "    <tr>\n",
       "      <th>14</th>\n",
       "      <td>2017-12</td>\n",
       "      <td>3.971560</td>\n",
       "    </tr>\n",
       "    <tr>\n",
       "      <th>15</th>\n",
       "      <td>2018-01</td>\n",
       "      <td>3.981758</td>\n",
       "    </tr>\n",
       "    <tr>\n",
       "      <th>16</th>\n",
       "      <td>2018-02</td>\n",
       "      <td>3.788886</td>\n",
       "    </tr>\n",
       "    <tr>\n",
       "      <th>17</th>\n",
       "      <td>2018-03</td>\n",
       "      <td>3.708737</td>\n",
       "    </tr>\n",
       "    <tr>\n",
       "      <th>18</th>\n",
       "      <td>2018-04</td>\n",
       "      <td>4.108002</td>\n",
       "    </tr>\n",
       "    <tr>\n",
       "      <th>19</th>\n",
       "      <td>2018-05</td>\n",
       "      <td>4.152935</td>\n",
       "    </tr>\n",
       "    <tr>\n",
       "      <th>20</th>\n",
       "      <td>2018-06</td>\n",
       "      <td>4.242864</td>\n",
       "    </tr>\n",
       "    <tr>\n",
       "      <th>21</th>\n",
       "      <td>2018-07</td>\n",
       "      <td>4.228460</td>\n",
       "    </tr>\n",
       "    <tr>\n",
       "      <th>22</th>\n",
       "      <td>2018-08</td>\n",
       "      <td>4.207351</td>\n",
       "    </tr>\n",
       "    <tr>\n",
       "      <th>23</th>\n",
       "      <td>2018-09</td>\n",
       "      <td>1.750000</td>\n",
       "    </tr>\n",
       "    <tr>\n",
       "      <th>24</th>\n",
       "      <td>2018-10</td>\n",
       "      <td>2.250000</td>\n",
       "    </tr>\n",
       "  </tbody>\n",
       "</table>\n",
       "</div>"
      ],
      "text/plain": [
       "   month_year  review_score\n",
       "0     2016-09      1.000000\n",
       "1     2016-10      3.482507\n",
       "2     2016-12      5.000000\n",
       "3     2017-01      4.038922\n",
       "4     2017-02      3.992391\n",
       "5     2017-03      4.048882\n",
       "6     2017-04      4.025413\n",
       "7     2017-05      4.116055\n",
       "8     2017-06      4.108249\n",
       "9     2017-07      4.131075\n",
       "10    2017-08      4.211906\n",
       "11    2017-09      4.145354\n",
       "12    2017-10      4.059566\n",
       "13    2017-11      3.858857\n",
       "14    2017-12      3.971560\n",
       "15    2018-01      3.981758\n",
       "16    2018-02      3.788886\n",
       "17    2018-03      3.708737\n",
       "18    2018-04      4.108002\n",
       "19    2018-05      4.152935\n",
       "20    2018-06      4.242864\n",
       "21    2018-07      4.228460\n",
       "22    2018-08      4.207351\n",
       "23    2018-09      1.750000\n",
       "24    2018-10      2.250000"
      ]
     },
     "execution_count": 152,
     "metadata": {},
     "output_type": "execute_result"
    }
   ],
   "source": [
    "c5.groupby('month_year').review_score.mean().reset_index()"
   ]
  }
 ],
 "metadata": {
  "kernelspec": {
   "display_name": "Python 3 (ipykernel)",
   "language": "python",
   "name": "python3"
  },
  "language_info": {
   "codemirror_mode": {
    "name": "ipython",
    "version": 3
   },
   "file_extension": ".py",
   "mimetype": "text/x-python",
   "name": "python",
   "nbconvert_exporter": "python",
   "pygments_lexer": "ipython3",
   "version": "3.9.7"
  }
 },
 "nbformat": 4,
 "nbformat_minor": 5
}
